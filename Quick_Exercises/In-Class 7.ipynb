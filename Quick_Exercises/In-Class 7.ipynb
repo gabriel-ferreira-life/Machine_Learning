{
 "cells": [
  {
   "cell_type": "code",
   "execution_count": 10,
   "id": "5d6aa67f",
   "metadata": {},
   "outputs": [
    {
     "data": {
      "text/html": [
       "<div>\n",
       "<style scoped>\n",
       "    .dataframe tbody tr th:only-of-type {\n",
       "        vertical-align: middle;\n",
       "    }\n",
       "\n",
       "    .dataframe tbody tr th {\n",
       "        vertical-align: top;\n",
       "    }\n",
       "\n",
       "    .dataframe thead th {\n",
       "        text-align: right;\n",
       "    }\n",
       "</style>\n",
       "<table border=\"1\" class=\"dataframe\">\n",
       "  <thead>\n",
       "    <tr style=\"text-align: right;\">\n",
       "      <th></th>\n",
       "      <th>Species</th>\n",
       "      <th>Weight</th>\n",
       "      <th>Length1</th>\n",
       "      <th>Length2</th>\n",
       "      <th>Length3</th>\n",
       "      <th>Height</th>\n",
       "      <th>Width</th>\n",
       "    </tr>\n",
       "  </thead>\n",
       "  <tbody>\n",
       "    <tr>\n",
       "      <th>0</th>\n",
       "      <td>Bream</td>\n",
       "      <td>242.0</td>\n",
       "      <td>23.2</td>\n",
       "      <td>25.4</td>\n",
       "      <td>30.0</td>\n",
       "      <td>11.5200</td>\n",
       "      <td>4.0200</td>\n",
       "    </tr>\n",
       "    <tr>\n",
       "      <th>1</th>\n",
       "      <td>Bream</td>\n",
       "      <td>290.0</td>\n",
       "      <td>24.0</td>\n",
       "      <td>26.3</td>\n",
       "      <td>31.2</td>\n",
       "      <td>12.4800</td>\n",
       "      <td>4.3056</td>\n",
       "    </tr>\n",
       "    <tr>\n",
       "      <th>2</th>\n",
       "      <td>Bream</td>\n",
       "      <td>340.0</td>\n",
       "      <td>23.9</td>\n",
       "      <td>26.5</td>\n",
       "      <td>31.1</td>\n",
       "      <td>12.3778</td>\n",
       "      <td>4.6961</td>\n",
       "    </tr>\n",
       "    <tr>\n",
       "      <th>3</th>\n",
       "      <td>Bream</td>\n",
       "      <td>363.0</td>\n",
       "      <td>26.3</td>\n",
       "      <td>29.0</td>\n",
       "      <td>33.5</td>\n",
       "      <td>12.7300</td>\n",
       "      <td>4.4555</td>\n",
       "    </tr>\n",
       "    <tr>\n",
       "      <th>4</th>\n",
       "      <td>Bream</td>\n",
       "      <td>430.0</td>\n",
       "      <td>26.5</td>\n",
       "      <td>29.0</td>\n",
       "      <td>34.0</td>\n",
       "      <td>12.4440</td>\n",
       "      <td>5.1340</td>\n",
       "    </tr>\n",
       "  </tbody>\n",
       "</table>\n",
       "</div>"
      ],
      "text/plain": [
       "  Species  Weight  Length1  Length2  Length3   Height   Width\n",
       "0   Bream   242.0     23.2     25.4     30.0  11.5200  4.0200\n",
       "1   Bream   290.0     24.0     26.3     31.2  12.4800  4.3056\n",
       "2   Bream   340.0     23.9     26.5     31.1  12.3778  4.6961\n",
       "3   Bream   363.0     26.3     29.0     33.5  12.7300  4.4555\n",
       "4   Bream   430.0     26.5     29.0     34.0  12.4440  5.1340"
      ]
     },
     "execution_count": 10,
     "metadata": {},
     "output_type": "execute_result"
    }
   ],
   "source": [
    "import boto3\n",
    "import pandas as pd\n",
    "import numpy as np\n",
    "from sklearn.model_selection import train_test_split\n",
    "from sklearn.linear_model import LinearRegression, Lasso, LassoCV, Ridge, RidgeCV\n",
    "\n",
    "# Defining the s3 bucket\n",
    "s3 = boto3.resource('s3')\n",
    "bucket_name = 'gabrielferreira-data-455-bucket'\n",
    "bucket = s3.Bucket(bucket_name)\n",
    "\n",
    "# Defining the file to be read from s3 bucket\n",
    "file_key = \"Fish.csv\"\n",
    "\n",
    "bucket_object = bucket.Object(file_key)\n",
    "file_object = bucket_object.get()\n",
    "file_content_stream = file_object.get('Body')\n",
    "\n",
    "# Question 1\n",
    "# Reading the csv file\n",
    "fish = pd.read_csv(file_content_stream)\n",
    "fish.head()"
   ]
  },
  {
   "cell_type": "code",
   "execution_count": 28,
   "id": "9b8f388a",
   "metadata": {},
   "outputs": [],
   "source": [
    "# Defining the target and input variables\n",
    "X = fish[['Length1', 'Length2', 'Length3', 'Height', 'Width']]\n",
    "Y = fish['Weight']\n",
    "\n",
    "X_train, X_test, Y_train, Y_test = train_test_split(X, Y, test_size=0.2)"
   ]
  },
  {
   "cell_type": "code",
   "execution_count": 29,
   "id": "294b51eb",
   "metadata": {},
   "outputs": [
    {
     "data": {
      "text/plain": [
       "array([21.64221829,  0.        , -0.        , 13.2691497 , 49.89296661])"
      ]
     },
     "execution_count": 29,
     "metadata": {},
     "output_type": "execute_result"
    }
   ],
   "source": [
    "# Performing LASSO as a variable selector\n",
    "# Estimating lambda\n",
    "lasso_cv = LassoCV(normalize = True, cv = 5).fit(X_train, Y_train)\n",
    "\n",
    "# Extracting optimal alpha\n",
    "lasso_alpha = lasso_cv.alpha_\n",
    "\n",
    "# Building model\n",
    "lasso_md = Lasso(alpha = lasso_alpha, normalize = True).fit(X_train, Y_train)\n",
    "lasso_md.coef_"
   ]
  },
  {
   "cell_type": "code",
   "execution_count": 13,
   "id": "6d687fd8",
   "metadata": {},
   "outputs": [],
   "source": [
    "# Dropping variables\n",
    "X_train = X_train.drop(columns = ['Length2', 'Length3'], axis = 1)\n",
    "X_test = X_test.drop(columns = ['Length2', 'Length3'], axis = 1)"
   ]
  },
  {
   "cell_type": "code",
   "execution_count": 14,
   "id": "b19fef50",
   "metadata": {},
   "outputs": [],
   "source": [
    "def l2_normalization(X):\n",
    "    \n",
    "    x_mean = np.mean(X)\n",
    "    l2 = np.sqrt(sum(X**2))\n",
    "    return (X - x_mean) / l2\n",
    "\n",
    "X_train = X_train.apply(l2_normalization, axis = 1)\n",
    "X_test = X_test.apply(l2_normalization, axis = 1)"
   ]
  },
  {
   "cell_type": "code",
   "execution_count": 15,
   "id": "ffa6b5ff",
   "metadata": {},
   "outputs": [
    {
     "data": {
      "text/plain": [
       "155056.501435243"
      ]
     },
     "execution_count": 15,
     "metadata": {},
     "output_type": "execute_result"
    }
   ],
   "source": [
    "## Linear Regression\n",
    "md1 = LinearRegression().fit(X_train, Y_train)\n",
    "\n",
    "## Prediction on test dataset\n",
    "md1_pred = md1.predict(X_test)\n",
    "\n",
    "## Computing the mse\n",
    "md1_mse = np.mean(np.power(md1_pred - Y_test, 2))\n",
    "md1_mse"
   ]
  },
  {
   "cell_type": "code",
   "execution_count": 24,
   "id": "0246cc59",
   "metadata": {},
   "outputs": [
    {
     "data": {
      "text/plain": [
       "152032.18889048387"
      ]
     },
     "execution_count": 24,
     "metadata": {},
     "output_type": "execute_result"
    }
   ],
   "source": [
    "# Ridge Regression\n",
    "ridge_cv = RidgeCV(alphas = [0.001, 0.01, 0.1, 1, 10, 100], cv = 5).fit(X_train, Y_train)\n",
    "ridge_alpha = ridge_cv.alpha_\n",
    "\n",
    "# Building the ridge model\n",
    "ridge_md = Ridge(alpha = ridge_alpha).fit(X_train, Y_train)\n",
    "\n",
    "# Predicting on the test dataset\n",
    "md2_pred = ridge_md.predict(X_test)\n",
    "\n",
    "# Computing the mse\n",
    "md2_mse = np.mean(np.power(md2_pred, 2))\n",
    "md2_mse"
   ]
  },
  {
   "cell_type": "code",
   "execution_count": 38,
   "id": "8976b83a",
   "metadata": {},
   "outputs": [
    {
     "data": {
      "text/plain": [
       "-71634.2466629879"
      ]
     },
     "execution_count": 38,
     "metadata": {},
     "output_type": "execute_result"
    }
   ],
   "source": [
    "md1_mse - md2_mse"
   ]
  }
 ],
 "metadata": {
  "kernelspec": {
   "display_name": "conda_python3",
   "language": "python",
   "name": "conda_python3"
  },
  "language_info": {
   "codemirror_mode": {
    "name": "ipython",
    "version": 3
   },
   "file_extension": ".py",
   "mimetype": "text/x-python",
   "name": "python",
   "nbconvert_exporter": "python",
   "pygments_lexer": "ipython3",
   "version": "3.6.13"
  }
 },
 "nbformat": 4,
 "nbformat_minor": 5
}
