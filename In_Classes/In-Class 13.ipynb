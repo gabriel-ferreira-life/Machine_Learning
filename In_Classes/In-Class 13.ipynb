{
 "cells": [
  {
   "cell_type": "code",
   "execution_count": 2,
   "id": "b8c91153",
   "metadata": {},
   "outputs": [
    {
     "data": {
      "text/html": [
       "<div>\n",
       "<style scoped>\n",
       "    .dataframe tbody tr th:only-of-type {\n",
       "        vertical-align: middle;\n",
       "    }\n",
       "\n",
       "    .dataframe tbody tr th {\n",
       "        vertical-align: top;\n",
       "    }\n",
       "\n",
       "    .dataframe thead th {\n",
       "        text-align: right;\n",
       "    }\n",
       "</style>\n",
       "<table border=\"1\" class=\"dataframe\">\n",
       "  <thead>\n",
       "    <tr style=\"text-align: right;\">\n",
       "      <th></th>\n",
       "      <th>male</th>\n",
       "      <th>age</th>\n",
       "      <th>education</th>\n",
       "      <th>currentSmoker</th>\n",
       "      <th>cigsPerDay</th>\n",
       "      <th>BPMeds</th>\n",
       "      <th>prevalentStroke</th>\n",
       "      <th>prevalentHyp</th>\n",
       "      <th>diabetes</th>\n",
       "      <th>totChol</th>\n",
       "      <th>sysBP</th>\n",
       "      <th>diaBP</th>\n",
       "      <th>BMI</th>\n",
       "      <th>heartRate</th>\n",
       "      <th>glucose</th>\n",
       "      <th>TenYearCHD</th>\n",
       "    </tr>\n",
       "  </thead>\n",
       "  <tbody>\n",
       "    <tr>\n",
       "      <th>0</th>\n",
       "      <td>1</td>\n",
       "      <td>39</td>\n",
       "      <td>4.0</td>\n",
       "      <td>0</td>\n",
       "      <td>0.0</td>\n",
       "      <td>0.0</td>\n",
       "      <td>0</td>\n",
       "      <td>0</td>\n",
       "      <td>0</td>\n",
       "      <td>195.0</td>\n",
       "      <td>106.0</td>\n",
       "      <td>70.0</td>\n",
       "      <td>26.97</td>\n",
       "      <td>80.0</td>\n",
       "      <td>77.0</td>\n",
       "      <td>0</td>\n",
       "    </tr>\n",
       "  </tbody>\n",
       "</table>\n",
       "</div>"
      ],
      "text/plain": [
       "   male  age  education  currentSmoker  cigsPerDay  BPMeds  prevalentStroke  \\\n",
       "0     1   39        4.0              0         0.0     0.0                0   \n",
       "\n",
       "   prevalentHyp  diabetes  totChol  sysBP  diaBP    BMI  heartRate  glucose  \\\n",
       "0             0         0    195.0  106.0   70.0  26.97       80.0     77.0   \n",
       "\n",
       "   TenYearCHD  \n",
       "0           0  "
      ]
     },
     "execution_count": 2,
     "metadata": {},
     "output_type": "execute_result"
    }
   ],
   "source": [
    "# (a)\n",
    "import boto3\n",
    "import pandas as pd\n",
    "import numpy as np\n",
    "from sklearn.linear_model import LogisticRegression, Lasso, LassoCV\n",
    "from sklearn.ensemble import RandomForestClassifier\n",
    "from sklearn.model_selection import train_test_split\n",
    "from sklearn.preprocessing import MinMaxScaler\n",
    "from sklearn.metrics import recall_score\n",
    "\n",
    "# Defining s3 bucket\n",
    "s3 = boto3.resource('s3')\n",
    "bucket_name = 'gabrielferreira-data-455-bucket'\n",
    "bucket = s3.Bucket(bucket_name)\n",
    "\n",
    "# Defining the file to be read from s3 bucket\n",
    "key_file = 'framingham.csv'\n",
    "\n",
    "bucket_object = bucket.Object(key_file)\n",
    "file_object = bucket_object.get()\n",
    "file_content_stream = file_object.get('Body')\n",
    "\n",
    "# Reading csv\n",
    "heart = pd.read_csv(file_content_stream)\n",
    "\n",
    "# (b)\n",
    "heart = heart.dropna()\n",
    "heart.head(1)"
   ]
  },
  {
   "cell_type": "code",
   "execution_count": 8,
   "id": "2061045e",
   "metadata": {},
   "outputs": [],
   "source": [
    "# Defining predictors and target variable\n",
    "X = heart[['male', 'age', 'currentSmoker', 'totChol', 'sysBP', 'BMI', 'heartRate', 'glucose']]\n",
    "Y = heart['TenYearCHD']\n",
    "\n",
    "# Splitting the dataset into predictors and target variables\n",
    "X_train, X_test, Y_train, Y_test = train_test_split(X, Y, test_size = 0.2, stratify = Y)"
   ]
  },
  {
   "cell_type": "code",
   "execution_count": 15,
   "id": "b86949c0",
   "metadata": {},
   "outputs": [],
   "source": [
    "# Transforming predictors variables to 0-1 scale\n",
    "scaler = MinMaxScaler()\n",
    "X_train = pd.DataFrame(scaler.fit_transform(X_train), columns = X.columns)\n",
    "X_test = pd.DataFrame(scaler.fit_transform(X_test), columns = X.columns)"
   ]
  },
  {
   "cell_type": "code",
   "execution_count": 16,
   "id": "cde0a6a1",
   "metadata": {},
   "outputs": [
    {
     "data": {
      "text/plain": [
       "array([0.06818806, 0.28407088, 0.04586193, 0.        , 0.48175676,\n",
       "       0.        , 0.        , 0.27538595])"
      ]
     },
     "execution_count": 16,
     "metadata": {},
     "output_type": "execute_result"
    }
   ],
   "source": [
    "## LASSO CV\n",
    "lasso_cv = LassoCV(cv = 5).fit(X_train, Y_train)\n",
    "lasso_cv.alpha_\n",
    "\n",
    "# Building LASSO regression\n",
    "lasso_md = Lasso(alpha = lasso_cv.alpha_).fit(X_train, Y_train)\n",
    "lasso_md.coef_"
   ]
  },
  {
   "cell_type": "code",
   "execution_count": 17,
   "id": "7823f261",
   "metadata": {},
   "outputs": [
    {
     "data": {
      "text/plain": [
       "0.8928571428571429"
      ]
     },
     "execution_count": 17,
     "metadata": {},
     "output_type": "execute_result"
    }
   ],
   "source": [
    "X_train_lasso = X_train[['male', 'age', 'currentSmoker', 'sysBP', 'glucose']]\n",
    "X_test_lasso = X_test[['male', 'age', 'currentSmoker', 'sysBP', 'glucose']]\n",
    "\n",
    "# Logistic Regression\n",
    "logit_md = LogisticRegression().fit(X_train_lasso, Y_train)\n",
    "\n",
    "# Predicting on test\n",
    "pred1 = logit_md.predict_proba(X_test_lasso)[:,1]\n",
    "pred1 = np.where(pred1 < 0.1, 0, 1)\n",
    "\n",
    "# Computing the recall\n",
    "recall_score(Y_test, pred1)"
   ]
  },
  {
   "cell_type": "code",
   "execution_count": 18,
   "id": "eea072fe",
   "metadata": {},
   "outputs": [
    {
     "data": {
      "text/plain": [
       "array([0.02456363, 0.15141812, 0.01959902, 0.16628495, 0.18914261,\n",
       "       0.17289656, 0.12321649, 0.15287863])"
      ]
     },
     "execution_count": 18,
     "metadata": {},
     "output_type": "execute_result"
    }
   ],
   "source": [
    "# Random forest classifier\n",
    "RF = RandomForestClassifier(n_estimators = 500).fit(X_train, Y_train)\n",
    "\n",
    "# Extracting importance\n",
    "RF.feature_importances_"
   ]
  },
  {
   "cell_type": "code",
   "execution_count": 22,
   "id": "aa6b6369",
   "metadata": {},
   "outputs": [
    {
     "data": {
      "text/plain": [
       "0.9107142857142857"
      ]
     },
     "execution_count": 22,
     "metadata": {},
     "output_type": "execute_result"
    }
   ],
   "source": [
    "X_train_RF = X_train[['age', 'totChol', 'sysBP', 'BMI', 'glucose']]\n",
    "X_test_RF = X_test[['age', 'totChol', 'sysBP', 'BMI', 'glucose']]\n",
    "\n",
    "# Building Random Forest Model\n",
    "RF = RandomForestClassifier(n_estimators = 500, max_depth = 5).fit(X_train_RF, Y_train)\n",
    "\n",
    "# Predicting on test dataset\n",
    "pred2 = RF.predict_proba(X_test_RF)[:,1]\n",
    "pred2 = np.where(pred2 < 0.1, 0, 1)\n",
    "\n",
    "recall_score(Y_test, pred2)"
   ]
  },
  {
   "cell_type": "code",
   "execution_count": null,
   "id": "5f101b9e",
   "metadata": {},
   "outputs": [],
   "source": []
  }
 ],
 "metadata": {
  "kernelspec": {
   "display_name": "conda_python3",
   "language": "python",
   "name": "conda_python3"
  },
  "language_info": {
   "codemirror_mode": {
    "name": "ipython",
    "version": 3
   },
   "file_extension": ".py",
   "mimetype": "text/x-python",
   "name": "python",
   "nbconvert_exporter": "python",
   "pygments_lexer": "ipython3",
   "version": "3.6.13"
  }
 },
 "nbformat": 4,
 "nbformat_minor": 5
}
