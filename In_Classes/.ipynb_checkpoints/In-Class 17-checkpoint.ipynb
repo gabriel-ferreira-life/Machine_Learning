{
 "cells": [
  {
   "cell_type": "code",
   "execution_count": 2,
   "id": "b53b2598",
   "metadata": {},
   "outputs": [
    {
     "data": {
      "text/html": [
       "<div>\n",
       "<style scoped>\n",
       "    .dataframe tbody tr th:only-of-type {\n",
       "        vertical-align: middle;\n",
       "    }\n",
       "\n",
       "    .dataframe tbody tr th {\n",
       "        vertical-align: top;\n",
       "    }\n",
       "\n",
       "    .dataframe thead th {\n",
       "        text-align: right;\n",
       "    }\n",
       "</style>\n",
       "<table border=\"1\" class=\"dataframe\">\n",
       "  <thead>\n",
       "    <tr style=\"text-align: right;\">\n",
       "      <th></th>\n",
       "      <th>male</th>\n",
       "      <th>age</th>\n",
       "      <th>education</th>\n",
       "      <th>currentSmoker</th>\n",
       "      <th>cigsPerDay</th>\n",
       "      <th>BPMeds</th>\n",
       "      <th>prevalentStroke</th>\n",
       "      <th>prevalentHyp</th>\n",
       "      <th>diabetes</th>\n",
       "      <th>totChol</th>\n",
       "      <th>sysBP</th>\n",
       "      <th>diaBP</th>\n",
       "      <th>BMI</th>\n",
       "      <th>heartRate</th>\n",
       "      <th>glucose</th>\n",
       "      <th>TenYearCHD</th>\n",
       "    </tr>\n",
       "  </thead>\n",
       "  <tbody>\n",
       "    <tr>\n",
       "      <th>0</th>\n",
       "      <td>1</td>\n",
       "      <td>39</td>\n",
       "      <td>4.0</td>\n",
       "      <td>0</td>\n",
       "      <td>0.0</td>\n",
       "      <td>0.0</td>\n",
       "      <td>0</td>\n",
       "      <td>0</td>\n",
       "      <td>0</td>\n",
       "      <td>195.0</td>\n",
       "      <td>106.0</td>\n",
       "      <td>70.0</td>\n",
       "      <td>26.97</td>\n",
       "      <td>80.0</td>\n",
       "      <td>77.0</td>\n",
       "      <td>0</td>\n",
       "    </tr>\n",
       "  </tbody>\n",
       "</table>\n",
       "</div>"
      ],
      "text/plain": [
       "   male  age  education  currentSmoker  cigsPerDay  BPMeds  prevalentStroke  \\\n",
       "0     1   39        4.0              0         0.0     0.0                0   \n",
       "\n",
       "   prevalentHyp  diabetes  totChol  sysBP  diaBP    BMI  heartRate  glucose  \\\n",
       "0             0         0    195.0  106.0   70.0  26.97       80.0     77.0   \n",
       "\n",
       "   TenYearCHD  \n",
       "0           0  "
      ]
     },
     "execution_count": 2,
     "metadata": {},
     "output_type": "execute_result"
    }
   ],
   "source": [
    "## Question \n",
    "# (a)\n",
    "import boto3\n",
    "import pandas as pd\n",
    "import numpy as np\n",
    "from sklearn.linear_model import LogisticRegression, Lasso, LassoCV\n",
    "from sklearn.ensemble import RandomForestClassifier, AdaBoostClassifier, GradientBoostingClassifier\n",
    "from sklearn.tree import DecisionTreeClassifier\n",
    "from sklearn.model_selection import train_test_split\n",
    "from sklearn.metrics import recall_score, accuracy_score\n",
    "from sklearn.preprocessing import MinMaxScaler\n",
    "from sklearn.svm import SVR, SVC\n",
    "\n",
    "# Defining s3 bucket\n",
    "s3 = boto3.resource('s3')\n",
    "bucket_name = 'gabrielferreira-data-455-bucket'\n",
    "bucket = s3.Bucket(bucket_name)\n",
    "\n",
    "# Defining the file to be read from s3 bucket\n",
    "key_file = 'framingham.csv'\n",
    "\n",
    "bucket_object = bucket.Object(key_file)\n",
    "file_object = bucket_object.get()\n",
    "file_content_stream = file_object.get('Body')\n",
    "\n",
    "# Reading csv\n",
    "heart = pd.read_csv(file_content_stream)\n",
    "\n",
    "# (b)\n",
    "# Removing missing values\n",
    "heart = heart.dropna()\n",
    "heart.head(1)"
   ]
  },
  {
   "cell_type": "code",
   "execution_count": 11,
   "id": "6f13c514",
   "metadata": {},
   "outputs": [],
   "source": [
    "# Defining target and predictor variables\n",
    "X = heart[['age', 'totChol', 'sysBP', 'BMI', 'heartRate', 'glucose']]\n",
    "Y = heart['TenYearCHD']\n",
    "\n",
    "# (i) Splitting the dataset into train and test\n",
    "X_train, X_test, Y_train, Y_test = train_test_split(X, Y, test_size = 0.2, stratify = Y)\n",
    "\n",
    "# Scaling the inputs to 0-1\n",
    "scaler = MinMaxScaler()\n",
    "X_train = scaler.fit_transform(X_train)\n",
    "X_test = scaler.fit_transform(X_test)"
   ]
  },
  {
   "cell_type": "code",
   "execution_count": 12,
   "id": "f471fd18",
   "metadata": {},
   "outputs": [
    {
     "name": "stdout",
     "output_type": "stream",
     "text": [
      "AdaBoost Recal Score:  0.84\n",
      "AdaBoost Accuracy  Score:  0.23\n"
     ]
    }
   ],
   "source": [
    "#### (iii) Creating AdaBoost Model\n",
    "AB_md = AdaBoostClassifier(base_estimator = DecisionTreeClassifier(max_depth = 3), n_estimators = 500, learning_rate = 0.01).fit(X_train, Y_train)\n",
    "    \n",
    "# Predicting on test dataset\n",
    "AB_pred = AB_md.predict_proba(X_test)[:,1]\n",
    "AB_label = np.where(AB_pred > 0.15, 1, 0)\n",
    "    \n",
    "# Computing Recall Score\n",
    "print(\"AdaBoost Recal Score: \", round(recall_score(Y_test, AB_label), 2))\n",
    "    \n",
    "# Computing Accuracy Score\n",
    "print(\"AdaBoost Accuracy  Score: \", round(accuracy_score(Y_test, AB_label), 2))"
   ]
  },
  {
   "cell_type": "code",
   "execution_count": 13,
   "id": "5f3a680f",
   "metadata": {},
   "outputs": [
    {
     "name": "stdout",
     "output_type": "stream",
     "text": [
      "Gradiet Boost Recal Score:  0.79\n",
      "Gradiet Boost accuracy Score:  0.47\n"
     ]
    }
   ],
   "source": [
    "#### Creating Gradiet Boost Model\n",
    "GB_md = GradientBoostingClassifier(max_depth = 3, n_estimators = 500, learning_rate = 0.01).fit(X_train, Y_train)\n",
    "    \n",
    "# Predicting on test dataset\n",
    "GB_pred = GB_md.predict_proba(X_test)[:,1]\n",
    "GB_label = np.where(GB_pred > 0.15, 1, 0)\n",
    "    \n",
    "# Computing Recall Score\n",
    "print(\"Gradiet Boost Recal Score: \", round(recall_score(Y_test, GB_label), 2))\n",
    "    \n",
    "# Computing Accuracy Score\n",
    "print(\"Gradiet Boost accuracy Score: \", round(accuracy_score(Y_test, GB_label), 2))"
   ]
  },
  {
   "cell_type": "code",
   "execution_count": 14,
   "id": "a508d19a",
   "metadata": {},
   "outputs": [
    {
     "name": "stdout",
     "output_type": "stream",
     "text": [
      "Support Vector Machine Recal Score:  0.62\n",
      "Support Vector Machine Accuracy Score:  0.55\n"
     ]
    }
   ],
   "source": [
    "#### (ii) Creating Support Vector Machine\n",
    "SVM_md = SVC(kernel = 'rbf', probability = True).fit(X_train, Y_train)\n",
    "    \n",
    "# Predicting on test dataset\n",
    "SVM_pred = SVM_md.predict_proba(X_test)[:,1]\n",
    "SVM_label = np.where(SVM_pred > 0.15, 1, 0)\n",
    "    \n",
    "# Computing Recall Score\n",
    "print(\"Support Vector Machine Recal Score: \", round(recall_score(Y_test, SVM_label), 2))\n",
    "    \n",
    "# Computing Accuracy\n",
    "print(\"Support Vector Machine Accuracy Score: \", round(accuracy_score(Y_test, SVM_label), 2))"
   ]
  },
  {
   "cell_type": "code",
   "execution_count": 19,
   "id": "d6463e57",
   "metadata": {},
   "outputs": [
    {
     "data": {
      "text/html": [
       "<div>\n",
       "<style scoped>\n",
       "    .dataframe tbody tr th:only-of-type {\n",
       "        vertical-align: middle;\n",
       "    }\n",
       "\n",
       "    .dataframe tbody tr th {\n",
       "        vertical-align: top;\n",
       "    }\n",
       "\n",
       "    .dataframe thead th {\n",
       "        text-align: right;\n",
       "    }\n",
       "</style>\n",
       "<table border=\"1\" class=\"dataframe\">\n",
       "  <thead>\n",
       "    <tr style=\"text-align: right;\">\n",
       "      <th></th>\n",
       "      <th>0</th>\n",
       "      <th>0</th>\n",
       "      <th>0</th>\n",
       "      <th>0</th>\n",
       "      <th>TenYearCHD</th>\n",
       "    </tr>\n",
       "  </thead>\n",
       "  <tbody>\n",
       "    <tr>\n",
       "      <th>0</th>\n",
       "      <td>0.210704</td>\n",
       "      <td>0.042467</td>\n",
       "      <td>0.151246</td>\n",
       "      <td>0.200309</td>\n",
       "      <td>1</td>\n",
       "    </tr>\n",
       "    <tr>\n",
       "      <th>1</th>\n",
       "      <td>0.626346</td>\n",
       "      <td>0.276724</td>\n",
       "      <td>0.167198</td>\n",
       "      <td>0.290197</td>\n",
       "      <td>1</td>\n",
       "    </tr>\n",
       "    <tr>\n",
       "      <th>2</th>\n",
       "      <td>0.355289</td>\n",
       "      <td>0.166887</td>\n",
       "      <td>0.148724</td>\n",
       "      <td>0.121459</td>\n",
       "      <td>0</td>\n",
       "    </tr>\n",
       "    <tr>\n",
       "      <th>3</th>\n",
       "      <td>0.479004</td>\n",
       "      <td>0.330810</td>\n",
       "      <td>0.258932</td>\n",
       "      <td>0.249578</td>\n",
       "      <td>0</td>\n",
       "    </tr>\n",
       "    <tr>\n",
       "      <th>4</th>\n",
       "      <td>0.266034</td>\n",
       "      <td>0.055741</td>\n",
       "      <td>0.152184</td>\n",
       "      <td>0.097598</td>\n",
       "      <td>0</td>\n",
       "    </tr>\n",
       "  </tbody>\n",
       "</table>\n",
       "</div>"
      ],
      "text/plain": [
       "          0         0         0         0  TenYearCHD\n",
       "0  0.210704  0.042467  0.151246  0.200309           1\n",
       "1  0.626346  0.276724  0.167198  0.290197           1\n",
       "2  0.355289  0.166887  0.148724  0.121459           0\n",
       "3  0.479004  0.330810  0.258932  0.249578           0\n",
       "4  0.266034  0.055741  0.152184  0.097598           0"
      ]
     },
     "execution_count": 19,
     "metadata": {},
     "output_type": "execute_result"
    }
   ],
   "source": [
    "## Ensembeling of likelyhood\n",
    "X_rf = pd.concat([pd.DataFrame(AB_pred), pd.DataFrame(GB_pred), pd.DataFrame(SVM_pred), Y_test.reset_index(drop = True)], axis = 1)\n",
    "\n",
    "# Defining input and target\n",
    "X_rf_1 = pd.concat([pd.DataFrame(AB_pred), pd.DataFrame(GB_pred), pd.DataFrame(SVM_pred)], axis = 1)\n",
    "\n",
    "# Building the Random Forest Model\n",
    "RF_md = RandomForestClassifier(n_estimators = 500, max_depth = 3).fit(X_rf_1, Y_test)\n",
    "\n",
    "# Extracting the ensemble likelyhood\n",
    "RF_preds = RF_md.predict_proba(X_rf_1)[:,1]\n",
    "\n",
    "# Final results\n",
    "final_results = pd.concat([pd.DataFrame(AB_pred), pd.DataFrame(GB_pred), pd.DataFrame(SVM_pred), pd.DataFrame(RF_preds), Y_test.reset_index(drop = True)], axis = 1)\n",
    "final_results.head()"
   ]
  },
  {
   "cell_type": "code",
   "execution_count": 20,
   "id": "58cd441b",
   "metadata": {},
   "outputs": [
    {
     "name": "stdout",
     "output_type": "stream",
     "text": [
      "Random Forest Recal Score:  0.7\n",
      "Random Forest Accuracy Score:  0.69\n"
     ]
    }
   ],
   "source": [
    "# Labeling predictions\n",
    "RF_label = np.where(RF_preds > 0.15, 1, 0)\n",
    "\n",
    "# Computing Recall Score\n",
    "print(\"Random Forest Recal Score: \", round(recall_score(Y_test, RF_label), 2))\n",
    "    \n",
    "# Computing Accuracy\n",
    "print(\"Random Forest Accuracy Score: \", round(accuracy_score(Y_test, RF_label), 2))"
   ]
  }
 ],
 "metadata": {
  "kernelspec": {
   "display_name": "conda_python3",
   "language": "python",
   "name": "conda_python3"
  },
  "language_info": {
   "codemirror_mode": {
    "name": "ipython",
    "version": 3
   },
   "file_extension": ".py",
   "mimetype": "text/x-python",
   "name": "python",
   "nbconvert_exporter": "python",
   "pygments_lexer": "ipython3",
   "version": "3.6.13"
  }
 },
 "nbformat": 4,
 "nbformat_minor": 5
}
