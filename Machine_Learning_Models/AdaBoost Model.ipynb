{
 "cells": [
  {
   "cell_type": "markdown",
   "metadata": {},
   "source": [
    "## Exercise 1\n",
    "#### A data scientist is running an AdaBoost classifier on a dataset with 100 observations. Answer the following:\n",
    "#### (a) What is the weight initial weight of observation 72th in the training dataset? Be specific."
   ]
  },
  {
   "cell_type": "markdown",
   "metadata": {},
   "source": [
    " The initial weight will be 1/100 = 0.01. That is because at first, all observations start with the same initial weight."
   ]
  },
  {
   "cell_type": "markdown",
   "metadata": {},
   "source": [
    "#### (b) The 72th observation in the training dataset is misclassified by the first weak learner chosen by the data scientist. Is the new weight of the 72th observation in the training dataset (i.e., the weight assigned to the 72th observation after choosing the first weak classifier) larger or smaller than the weight assigned to that observation initially? Be specific."
   ]
  },
  {
   "cell_type": "markdown",
   "metadata": {},
   "source": [
    "The new weight of the 72th observation in the training dataset is larger than the weight assigned to that observation initially. That is because by increasing the weight of a misclassified by the weak learner, the model is being forced to learn from its mistakes."
   ]
  },
  {
   "cell_type": "markdown",
   "metadata": {},
   "source": [
    "## Exercise 2\n",
    "#### Explain why AbaBoost.M1 is an ensemble learning algorithm? Be specific"
   ]
  },
  {
   "cell_type": "markdown",
   "metadata": {},
   "source": [
    "AdaBoost.M1 is an ensemble learning algorithm because it combines the predictions of several weak learner into one single prediction. This combination is achieved by taking the sign of the sum the products of the estimator weight, alpha(i), and the prediction of each weak learner."
   ]
  },
  {
   "cell_type": "markdown",
   "metadata": {},
   "source": [
    "## Exercise 3\n",
    "#### Suppose you are running AdaBoost.M1 (with η = 0.1) with 4 training examples. At the start of the current iteration, the four examples have the weights shown in the following table. Another column says if the weak classifier got them correct or incorrect. Determine the new weights for these four examples, and fill in the corresponding entries in the table. Show all your work."
   ]
  },
  {
   "cell_type": "code",
   "execution_count": 45,
   "metadata": {},
   "outputs": [
    {
     "data": {
      "text/plain": [
       "0.2"
      ]
     },
     "execution_count": 45,
     "metadata": {},
     "output_type": "execute_result"
    }
   ],
   "source": [
    "epsilon = (.16*0 + .64*0 + .08*1 + .12*1)/(.16 + .64 + .08 + .12)\n",
    "epsilon"
   ]
  },
  {
   "cell_type": "code",
   "execution_count": 46,
   "metadata": {},
   "outputs": [
    {
     "data": {
      "text/plain": [
       "1.3862943611198906"
      ]
     },
     "execution_count": 46,
     "metadata": {},
     "output_type": "execute_result"
    }
   ],
   "source": [
    "import numpy as np\n",
    "alpha = np.log((1-.2)/.2)\n",
    "alpha"
   ]
  },
  {
   "cell_type": "code",
   "execution_count": 47,
   "metadata": {},
   "outputs": [],
   "source": [
    "#w1 = obsw*e**(n*alpha*-1 or 1\n",
    "w1 = .16*((np.e)**(.01*alpha*-1))\n",
    "w2 = .64*((np.e)**(.01*alpha*-1))\n",
    "w3 = .08*((np.e)**(.01*alpha*1))\n",
    "w4 = .12*((np.e)**(.01*alpha*1))"
   ]
  },
  {
   "cell_type": "code",
   "execution_count": 48,
   "metadata": {},
   "outputs": [
    {
     "data": {
      "text/plain": [
       "0.9917780595526932"
      ]
     },
     "execution_count": 48,
     "metadata": {},
     "output_type": "execute_result"
    }
   ],
   "source": [
    "tot_w = w1 + w2 + w3 + w4\n",
    "tot_w"
   ]
  },
  {
   "cell_type": "code",
   "execution_count": 49,
   "metadata": {},
   "outputs": [
    {
     "data": {
      "text/plain": [
       "1.0"
      ]
     },
     "execution_count": 49,
     "metadata": {},
     "output_type": "execute_result"
    }
   ],
   "source": [
    "(w1/tot_w) + (w2/tot_w) + (w3/tot_w) + (w4/tot_w)"
   ]
  },
  {
   "cell_type": "code",
   "execution_count": 50,
   "metadata": {},
   "outputs": [
    {
     "data": {
      "text/html": [
       "<div>\n",
       "<style scoped>\n",
       "    .dataframe tbody tr th:only-of-type {\n",
       "        vertical-align: middle;\n",
       "    }\n",
       "\n",
       "    .dataframe tbody tr th {\n",
       "        vertical-align: top;\n",
       "    }\n",
       "\n",
       "    .dataframe thead th {\n",
       "        text-align: right;\n",
       "    }\n",
       "</style>\n",
       "<table border=\"1\" class=\"dataframe\">\n",
       "  <thead>\n",
       "    <tr style=\"text-align: right;\">\n",
       "      <th></th>\n",
       "      <th>Observation</th>\n",
       "      <th>Old_Weight</th>\n",
       "      <th>Correct?</th>\n",
       "      <th>New_Weight</th>\n",
       "    </tr>\n",
       "  </thead>\n",
       "  <tbody>\n",
       "    <tr>\n",
       "      <th>0</th>\n",
       "      <td>1</td>\n",
       "      <td>0.16</td>\n",
       "      <td>Correct</td>\n",
       "      <td>0.159</td>\n",
       "    </tr>\n",
       "    <tr>\n",
       "      <th>1</th>\n",
       "      <td>2</td>\n",
       "      <td>0.64</td>\n",
       "      <td>Correct</td>\n",
       "      <td>0.636</td>\n",
       "    </tr>\n",
       "    <tr>\n",
       "      <th>2</th>\n",
       "      <td>3</td>\n",
       "      <td>0.08</td>\n",
       "      <td>Incorrect</td>\n",
       "      <td>0.082</td>\n",
       "    </tr>\n",
       "    <tr>\n",
       "      <th>3</th>\n",
       "      <td>4</td>\n",
       "      <td>0.12</td>\n",
       "      <td>Incorrect</td>\n",
       "      <td>0.123</td>\n",
       "    </tr>\n",
       "  </tbody>\n",
       "</table>\n",
       "</div>"
      ],
      "text/plain": [
       "   Observation  Old_Weight   Correct?  New_Weight\n",
       "0            1        0.16    Correct       0.159\n",
       "1            2        0.64    Correct       0.636\n",
       "2            3        0.08  Incorrect       0.082\n",
       "3            4        0.12  Incorrect       0.123"
      ]
     },
     "execution_count": 50,
     "metadata": {},
     "output_type": "execute_result"
    }
   ],
   "source": [
    "import pandas as pd\n",
    "example = pd.DataFrame({\"Observation\": [1, 2, 3, 4],\n",
    "                       \"Old_Weight\": [0.16, 0.64, 0.08, 0.12],\n",
    "                       \"Correct?\": [\"Correct\", \"Correct\", \"Incorrect\", 'Incorrect'],\n",
    "                       \"New_Weight\": [round((w1/tot_w), 3), round((w2/tot_w), 3), round((w3/tot_w), 3), round((w4/tot_w), 3)]})\n",
    "example.head()"
   ]
  },
  {
   "cell_type": "code",
   "execution_count": 51,
   "metadata": {},
   "outputs": [
    {
     "data": {
      "text/plain": [
       "1.0"
      ]
     },
     "execution_count": 51,
     "metadata": {},
     "output_type": "execute_result"
    }
   ],
   "source": [
    "np.sum(example['New_Weight'])"
   ]
  },
  {
   "cell_type": "markdown",
   "metadata": {},
   "source": [
    "## Exercise 4\n",
    "#### If your AdaBoost ensemble under-fits the training dataset, what would you do to fix that? That is, which hyper-parameters should you tweak?"
   ]
  },
  {
   "cell_type": "markdown",
   "metadata": {},
   "source": [
    "I would probably increase the number of estimators and maybe increase the learning rate."
   ]
  },
  {
   "cell_type": "markdown",
   "metadata": {},
   "source": [
    "## Exercise 5\n",
    "#### For binary classification, which of the following statements are TRUE of AdaBoost with decision trees as learners?\n",
    "#### (a) It usually has lower bias than a single decision tree.\n",
    "#### (b) It is popular because it usually works well even before any hyper-parameter tuning.\n",
    "#### (c) It assigns higher weights to observations that have been misclassified.\n",
    "#### (d) It can train multiple decision trees in parallel\n",
    "#### (e) All of the above.\n",
    "#### (f) None of the above."
   ]
  },
  {
   "cell_type": "markdown",
   "metadata": {},
   "source": [
    "(a) It usually has lower bias than a single decision tree.\\\n",
    "(b) It is popular because it usually works well even before any hyper-parameter tuning.\\\n",
    "(c) It assigns higher weights to observations that have been misclassified."
   ]
  },
  {
   "cell_type": "code",
   "execution_count": 52,
   "metadata": {},
   "outputs": [
    {
     "data": {
      "text/html": [
       "<div>\n",
       "<style scoped>\n",
       "    .dataframe tbody tr th:only-of-type {\n",
       "        vertical-align: middle;\n",
       "    }\n",
       "\n",
       "    .dataframe tbody tr th {\n",
       "        vertical-align: top;\n",
       "    }\n",
       "\n",
       "    .dataframe thead th {\n",
       "        text-align: right;\n",
       "    }\n",
       "</style>\n",
       "<table border=\"1\" class=\"dataframe\">\n",
       "  <thead>\n",
       "    <tr style=\"text-align: right;\">\n",
       "      <th></th>\n",
       "      <th>male</th>\n",
       "      <th>age</th>\n",
       "      <th>education</th>\n",
       "      <th>currentSmoker</th>\n",
       "      <th>cigsPerDay</th>\n",
       "      <th>BPMeds</th>\n",
       "      <th>prevalentStroke</th>\n",
       "      <th>prevalentHyp</th>\n",
       "      <th>diabetes</th>\n",
       "      <th>totChol</th>\n",
       "      <th>sysBP</th>\n",
       "      <th>diaBP</th>\n",
       "      <th>BMI</th>\n",
       "      <th>heartRate</th>\n",
       "      <th>glucose</th>\n",
       "      <th>TenYearCHD</th>\n",
       "    </tr>\n",
       "  </thead>\n",
       "  <tbody>\n",
       "    <tr>\n",
       "      <th>0</th>\n",
       "      <td>1</td>\n",
       "      <td>39</td>\n",
       "      <td>4.0</td>\n",
       "      <td>0</td>\n",
       "      <td>0.0</td>\n",
       "      <td>0.0</td>\n",
       "      <td>0</td>\n",
       "      <td>0</td>\n",
       "      <td>0</td>\n",
       "      <td>195.0</td>\n",
       "      <td>106.0</td>\n",
       "      <td>70.0</td>\n",
       "      <td>26.97</td>\n",
       "      <td>80.0</td>\n",
       "      <td>77.0</td>\n",
       "      <td>0</td>\n",
       "    </tr>\n",
       "  </tbody>\n",
       "</table>\n",
       "</div>"
      ],
      "text/plain": [
       "   male  age  education  currentSmoker  cigsPerDay  BPMeds  prevalentStroke  \\\n",
       "0     1   39        4.0              0         0.0     0.0                0   \n",
       "\n",
       "   prevalentHyp  diabetes  totChol  sysBP  diaBP    BMI  heartRate  glucose  \\\n",
       "0             0         0    195.0  106.0   70.0  26.97       80.0     77.0   \n",
       "\n",
       "   TenYearCHD  \n",
       "0           0  "
      ]
     },
     "execution_count": 52,
     "metadata": {},
     "output_type": "execute_result"
    }
   ],
   "source": [
    "## Question 6\n",
    "#(a)\n",
    "import boto3\n",
    "import pandas as pd\n",
    "import numpy as np\n",
    "from sklearn.linear_model import LogisticRegression, Lasso, LassoCV\n",
    "from sklearn.ensemble import RandomForestClassifier, AdaBoostClassifier\n",
    "from sklearn.tree import DecisionTreeClassifier\n",
    "from sklearn.model_selection import train_test_split\n",
    "from sklearn.metrics import recall_score\n",
    "from sklearn.preprocessing import MinMaxScaler\n",
    "from sklearn.svm import SVR, SVC\n",
    "\n",
    "# Defining s3 bucket\n",
    "s3 = boto3.resource('s3')\n",
    "bucket_name = 'gabrielferreira-data-455-bucket'\n",
    "bucket = s3.Bucket(bucket_name)\n",
    "\n",
    "# Defining the file to be read from s3 bucket\n",
    "key_file = 'framingham.csv'\n",
    "\n",
    "bucket_object = bucket.Object(key_file)\n",
    "file_object = bucket_object.get()\n",
    "file_content_stream = file_object.get('Body')\n",
    "\n",
    "# Reading csv\n",
    "heart = pd.read_csv(file_content_stream)\n",
    "\n",
    "# (b)\n",
    "heart = heart.dropna()\n",
    "heart.head(1)"
   ]
  },
  {
   "cell_type": "code",
   "execution_count": 53,
   "metadata": {},
   "outputs": [],
   "source": [
    "# Defining predictors and target variables\n",
    "X = heart[['age', 'totChol', 'sysBP', 'BMI', 'heartRate', 'glucose']]\n",
    "Y = heart['TenYearCHD']\n",
    "\n",
    "scaler = MinMaxScaler()\n",
    "\n",
    "# Creating list to compute recall_score\n",
    "RF_recall = list()\n",
    "Ada_recall = list()\n",
    "SVM_recall = list()\n",
    "\n",
    "# Creating for loop to get 100 recall score to each model\n",
    "for i in range(0,25):\n",
    "    \n",
    "    # Splitting the data into train and test\n",
    "    X_train, X_test, Y_train, Y_test = train_test_split(X, Y, test_size = 0.2, stratify = Y)\n",
    "    \n",
    "    # Transforming all the input variables to 0-1 scale\n",
    "    X_train = scaler.fit_transform(X_train)\n",
    "    X_test = scaler.fit_transform(X_test)\n",
    "    \n",
    "    #### Random Forest model\n",
    "    rf_md = RandomForestClassifier(n_estimators = 500, max_depth = 3).fit(X_train, Y_train)\n",
    "    \n",
    "    # Predicting on test daset\n",
    "    rf_pred = rf_md.predict_proba(X_test)[:,1]\n",
    "    rf_pred = np.where(rf_pred < 0.1, 0, 1)\n",
    "    \n",
    "    # Computing recall score\n",
    "    RF_recall.append(recall_score(Y_test, rf_pred))\n",
    "    \n",
    "    #### AdaBoost Classifier\n",
    "    Ada_md = AdaBoostClassifier(base_estimator = DecisionTreeClassifier(max_depth = 3), n_estimators = 500).fit(X_train, Y_train)\n",
    "    \n",
    "    # Predicting on test\n",
    "    ADA_pred = Ada_md.predict_proba(X_test)[:,1]\n",
    "    ADA_pred = np.where(ADA_pred < 0.1, 0, 1)\n",
    "\n",
    "    # Computing the recall\n",
    "    Ada_recall.append(recall_score(Y_test, ADA_pred))\n",
    "    \n",
    "    #### SVM\n",
    "    svm_model = AdaBoostClassifier(base_estimator = SVC(kernel = 'rbf', probability = True), n_estimators = 50).fit(X_train, Y_train)\n",
    "    \n",
    "    # Predicting on test\n",
    "    svm_pred = svm_model.predict_proba(X_test)[:,1]\n",
    "    svm_pred = np.where(svm_pred < 0.1, 0, 1)\n",
    "\n",
    "    # Computing the recall\n",
    "    SVM_recall.append(recall_score(Y_test, svm_pred))"
   ]
  },
  {
   "cell_type": "code",
   "execution_count": null,
   "metadata": {},
   "outputs": [],
   "source": [
    "# Creating for loop to get 100 recall score to each model\n",
    "for i in range(0,25):\n",
    "    \n",
    "    # Splitting the data into train and test\n",
    "    X_train, X_test, Y_train, Y_test = train_test_split(X, Y, test_size = 0.2, stratify = Y)\n",
    "    \n",
    "    # Transforming all the input variables to 0-1 scale\n",
    "    X_train = scaler.fit_transform(X_train)\n",
    "    X_test = scaler.fit_transform(X_test)\n",
    "    \n",
    "    #### Random Forest model\n",
    "    rf_md = RandomForestClassifier(n_estimators = 500, max_depth = 3).fit(X_train, Y_train)\n",
    "    \n",
    "    # Predicting on test daset\n",
    "    rf_pred = rf_md.predict_proba(X_test)[:,1]\n",
    "    rf_pred = np.where(rf_pred < 0.1, 0, 1)\n",
    "    \n",
    "    # Computing recall score\n",
    "    RF_recall.append(recall_score(Y_test, rf_pred))\n",
    "    \n",
    "    #### AdaBoost Classifier\n",
    "    Ada_md = AdaBoostClassifier(base_estimator = DecisionTreeClassifier(max_depth = 3), n_estimators = 500).fit(X_train, Y_train)\n",
    "    \n",
    "    # Predicting on test\n",
    "    ADA_pred = Ada_md.predict_proba(X_test)[:,1]\n",
    "    ADA_pred = np.where(ADA_pred < 0.1, 0, 1)\n",
    "\n",
    "    # Computing the recall\n",
    "    Ada_recall.append(recall_score(Y_test, ADA_pred))\n",
    "    \n",
    "    #### SVM\n",
    "    svm_model = AdaBoostClassifier(SVC(kernel = 'rbf', probability = True), n_estimators = 50).fit(X_train, Y_train)\n",
    "    \n",
    "    # Predicting on test\n",
    "    svm_pred = svm_model.predict_proba(X_test)[:,1]\n",
    "    svm_pred = np.where(svm_pred < 0.1, 0, 1)\n",
    "\n",
    "    # Computing the recall\n",
    "    SVM_recall.append(recall_score(Y_test, svm_pred))"
   ]
  },
  {
   "cell_type": "code",
   "execution_count": null,
   "metadata": {},
   "outputs": [],
   "source": [
    "# Creating for loop to get 100 recall score to each model\n",
    "for i in range(0,25):\n",
    "    \n",
    "    # Splitting the data into train and test\n",
    "    X_train, X_test, Y_train, Y_test = train_test_split(X, Y, test_size = 0.2, stratify = Y)\n",
    "    \n",
    "    # Transforming all the input variables to 0-1 scale\n",
    "    X_train = scaler.fit_transform(X_train)\n",
    "    X_test = scaler.fit_transform(X_test)\n",
    "    \n",
    "    #### Random Forest model\n",
    "    rf_md = RandomForestClassifier(n_estimators = 500, max_depth = 3).fit(X_train, Y_train)\n",
    "    \n",
    "    # Predicting on test daset\n",
    "    rf_pred = rf_md.predict_proba(X_test)[:,1]\n",
    "    rf_pred = np.where(rf_pred < 0.1, 0, 1)\n",
    "    \n",
    "    # Computing recall score\n",
    "    RF_recall.append(recall_score(Y_test, rf_pred))\n",
    "    \n",
    "    #### AdaBoost Classifier\n",
    "    Ada_md = AdaBoostClassifier(base_estimator = DecisionTreeClassifier(max_depth = 3), n_estimators = 500).fit(X_train, Y_train)\n",
    "    \n",
    "    # Predicting on test\n",
    "    ADA_pred = Ada_md.predict_proba(X_test)[:,1]\n",
    "    ADA_pred = np.where(ADA_pred < 0.1, 0, 1)\n",
    "\n",
    "    # Computing the recall\n",
    "    Ada_recall.append(recall_score(Y_test, ADA_pred))\n",
    "    \n",
    "    #### SVM\n",
    "    svm_model = AdaBoostClassifier(SVC(kernel = 'rbf', probability = True), n_estimators = 50).fit(X_train, Y_train)\n",
    "    \n",
    "    # Predicting on test\n",
    "    svm_pred = svm_model.predict_proba(X_test)[:,1]\n",
    "    svm_pred = np.where(svm_pred < 0.1, 0, 1)\n",
    "\n",
    "    # Computing the recall\n",
    "    SVM_recall.append(recall_score(Y_test, svm_pred))"
   ]
  },
  {
   "cell_type": "code",
   "execution_count": null,
   "metadata": {},
   "outputs": [],
   "source": [
    "# Creating for loop to get 100 recall score to each model\n",
    "for i in range(0,25):\n",
    "    \n",
    "    # Splitting the data into train and test\n",
    "    X_train, X_test, Y_train, Y_test = train_test_split(X, Y, test_size = 0.2, stratify = Y)\n",
    "    \n",
    "    # Transforming all the input variables to 0-1 scale\n",
    "    X_train = scaler.fit_transform(X_train)\n",
    "    X_test = scaler.fit_transform(X_test)\n",
    "    \n",
    "    #### Random Forest model\n",
    "    rf_md = RandomForestClassifier(n_estimators = 500, max_depth = 3).fit(X_train, Y_train)\n",
    "    \n",
    "    # Predicting on test daset\n",
    "    rf_pred = rf_md.predict_proba(X_test)[:,1]\n",
    "    rf_pred = np.where(rf_pred < 0.1, 0, 1)\n",
    "    \n",
    "    # Computing recall score\n",
    "    RF_recall.append(recall_score(Y_test, rf_pred))\n",
    "    \n",
    "    #### AdaBoost Classifier\n",
    "    Ada_md = AdaBoostClassifier(base_estimator = DecisionTreeClassifier(max_depth = 3), n_estimators = 500).fit(X_train, Y_train)\n",
    "    \n",
    "    # Predicting on test\n",
    "    ADA_pred = Ada_md.predict_proba(X_test)[:,1]\n",
    "    ADA_pred = np.where(ADA_pred < 0.1, 0, 1)\n",
    "\n",
    "    # Computing the recall\n",
    "    Ada_recall.append(recall_score(Y_test, ADA_pred))\n",
    "    \n",
    "    #### SVM\n",
    "    svm_model = AdaBoostClassifier(SVC(kernel = 'rbf', probability = True), n_estimators = 50).fit(X_train, Y_train)\n",
    "    \n",
    "    # Predicting on test\n",
    "    svm_pred = svm_model.predict_proba(X_test)[:,1]\n",
    "    svm_pred = np.where(svm_pred < 0.1, 0, 1)\n",
    "\n",
    "    # Computing the recall\n",
    "    SVM_recall.append(recall_score(Y_test, svm_pred))"
   ]
  },
  {
   "cell_type": "code",
   "execution_count": null,
   "metadata": {},
   "outputs": [
    {
     "data": {
      "text/plain": [
       "(100, 3)"
      ]
     },
     "execution_count": 57,
     "metadata": {},
     "output_type": "execute_result"
    }
   ],
   "source": [
    "# Creating a data-frame with the computed recall values\n",
    "model_recalls = pd.DataFrame({\"RF_Recall\": RF_recall,\n",
    "                              \"Ada_recall\": Ada_recall,\n",
    "                              \"SVM_recall\": SVM_recall})\n",
    "model_recalls.shape"
   ]
  },
  {
   "cell_type": "code",
   "execution_count": null,
   "metadata": {},
   "outputs": [
    {
     "data": {
      "text/plain": [
       "SVM_recall    1.000000\n",
       "Ada_recall    1.000000\n",
       "RF_Recall     0.926786\n",
       "dtype: float64"
      ]
     },
     "execution_count": 58,
     "metadata": {},
     "output_type": "execute_result"
    }
   ],
   "source": [
    "# Getting the average recall score of the 3 models\n",
    "model_recalls = np.mean(model_recalls, axis = 0).sort_values(ascending = False)\n",
    "model_recalls"
   ]
  },
  {
   "cell_type": "code",
   "execution_count": 64,
   "metadata": {},
   "outputs": [
    {
     "data": {
      "text/plain": [
       "Text(0.5, 0, 'Interation number')"
      ]
     },
     "execution_count": 64,
     "metadata": {},
     "output_type": "execute_result"
    },
    {
     "data": {
      "image/png": "[encoded data removed]",
      "text/plain": [
       "<Figure size 432x288 with 1 Axes>"
      ]
     },
     "metadata": {
      "needs_background": "light"
     },
     "output_type": "display_data"
    }
   ],
   "source": [
    "import matplotlib.pyplot as plt\n",
    "plt.figure()\n",
    "plt.plot(RF_recall, color = \"red\")\n",
    "plt.plot(Ada_recall, color = \"blue\")\n",
    "plt.plot(SVM_recall, color = \"green\")\n",
    "plt.ylabel(\"Recall Score\")\n",
    "plt.xlabel(\"Interation number\")"
   ]
  },
  {
   "cell_type": "markdown",
   "metadata": {},
   "source": [
    "I would use AdaBoost Classifier with Decision Tree Classifier. Although support vector machine also had the same perfect recall values, it too computerly expensive. Therefore, AdaBoost Classifier with Decision Tree Classifier had the best performance."
   ]
  }
 ],
 "metadata": {
  "kernelspec": {
   "display_name": "Python 3",
   "language": "python",
   "name": "python3"
  },
  "language_info": {
   "codemirror_mode": {
    "name": "ipython",
    "version": 3
   },
   "file_extension": ".py",
   "mimetype": "text/x-python",
   "name": "python",
   "nbconvert_exporter": "python",
   "pygments_lexer": "ipython3",
   "version": "3.8.3"
  }
 },
 "nbformat": 4,
 "nbformat_minor": 5
}
