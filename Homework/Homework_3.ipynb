{
 "cells": [
  {
   "cell_type": "markdown",
   "id": "aa1d4469",
   "metadata": {},
   "source": [
    "## Exercise 1\n",
    "#### You are given a dataset having more variables than observations. Assuming that there seems to be a linear relationship between the target variable and the input variables in the dataset, why ordinary least squares (OLS) is a bad option to estimate the model parameters? Which technique would be best to use? Why?"
   ]
  },
  {
   "cell_type": "markdown",
   "id": "568364f9",
   "metadata": {},
   "source": [
    "Ordinary least squares (OLS) is a bad option because when it is given a dataset having more variables than observtions, it becomes a math algebra problem because the model cannot estimate the extra coefficients. I would use Ridge Regression, which the coefficients are estimated by minimizing a slightly different quantity. In this model, the coefficient estimates are the values that minimize the error. "
   ]
  },
  {
   "cell_type": "markdown",
   "id": "31df78a8",
   "metadata": {},
   "source": [
    "## Exercise 2\n",
    "#### For Ridge regression, if the regularization parameter, λ, is equal to 0, what are the implications?"
   ]
  },
  {
   "cell_type": "markdown",
   "id": "fbb81c32",
   "metadata": {},
   "source": [
    "(a) Large coefficients in the linear model are not penalized.\\\n",
    "(c) The objective function is the same as ordinary least squares objective function.\n",
    "\n",
    "Answer: (f)  (a) and (c)"
   ]
  },
  {
   "cell_type": "markdown",
   "id": "a21d567f",
   "metadata": {},
   "source": [
    "## Exercise 3\n",
    "####  For Lasso Regression, if the regularization parameter, λ, is very high, which options are true? Select all that apply."
   ]
  },
  {
   "cell_type": "markdown",
   "id": "a06bb596",
   "metadata": {},
   "source": [
    "(a) Can be used to select important features of a dataset.\\\n",
    "(b) Shrinks the coefficients of less important features to exactly 0.\n",
    "\n",
    "Answer: (f) (a) and (b)"
   ]
  },
  {
   "cell_type": "markdown",
   "id": "b2eec6fc",
   "metadata": {},
   "source": [
    "## Exercise 4\n",
    "#### Suppose you are using Ridge Regression and you notice that the training error and the validation error are almost equal and fairly high. Would you say that the model suffers from high bias or high variance? Should you increase the regularization parameter, λ, or reduce it?"
   ]
  },
  {
   "cell_type": "markdown",
   "id": "bf70467d",
   "metadata": {},
   "source": [
    "When there is a training error and the validation error are almost equal and fairly high, I would say the model suffers of high bias, which is caused by underfitting the model. I would reduce the lambda to make the model more complex fitting it more."
   ]
  },
  {
   "cell_type": "markdown",
   "id": "e3c4fcaf",
   "metadata": {},
   "source": [
    "## Exercise 5"
   ]
  },
  {
   "cell_type": "code",
   "execution_count": 1,
   "id": "dce4a9cc",
   "metadata": {},
   "outputs": [
    {
     "data": {
      "text/html": [
       "<div>\n",
       "<style scoped>\n",
       "    .dataframe tbody tr th:only-of-type {\n",
       "        vertical-align: middle;\n",
       "    }\n",
       "\n",
       "    .dataframe tbody tr th {\n",
       "        vertical-align: top;\n",
       "    }\n",
       "\n",
       "    .dataframe thead th {\n",
       "        text-align: right;\n",
       "    }\n",
       "</style>\n",
       "<table border=\"1\" class=\"dataframe\">\n",
       "  <thead>\n",
       "    <tr style=\"text-align: right;\">\n",
       "      <th></th>\n",
       "      <th>car_ID</th>\n",
       "      <th>symboling</th>\n",
       "      <th>CarName</th>\n",
       "      <th>fueltype</th>\n",
       "      <th>aspiration</th>\n",
       "      <th>doornumber</th>\n",
       "      <th>carbody</th>\n",
       "      <th>drivewheel</th>\n",
       "      <th>enginelocation</th>\n",
       "      <th>wheelbase</th>\n",
       "      <th>...</th>\n",
       "      <th>enginesize</th>\n",
       "      <th>fuelsystem</th>\n",
       "      <th>boreratio</th>\n",
       "      <th>stroke</th>\n",
       "      <th>compressionratio</th>\n",
       "      <th>horsepower</th>\n",
       "      <th>peakrpm</th>\n",
       "      <th>citympg</th>\n",
       "      <th>highwaympg</th>\n",
       "      <th>price</th>\n",
       "    </tr>\n",
       "  </thead>\n",
       "  <tbody>\n",
       "    <tr>\n",
       "      <th>0</th>\n",
       "      <td>1</td>\n",
       "      <td>3</td>\n",
       "      <td>alfa-romero giulia</td>\n",
       "      <td>gas</td>\n",
       "      <td>std</td>\n",
       "      <td>two</td>\n",
       "      <td>convertible</td>\n",
       "      <td>rwd</td>\n",
       "      <td>front</td>\n",
       "      <td>88.6</td>\n",
       "      <td>...</td>\n",
       "      <td>130</td>\n",
       "      <td>mpfi</td>\n",
       "      <td>3.47</td>\n",
       "      <td>2.68</td>\n",
       "      <td>9.0</td>\n",
       "      <td>111</td>\n",
       "      <td>5000</td>\n",
       "      <td>21</td>\n",
       "      <td>27</td>\n",
       "      <td>13495.0</td>\n",
       "    </tr>\n",
       "  </tbody>\n",
       "</table>\n",
       "<p>1 rows × 26 columns</p>\n",
       "</div>"
      ],
      "text/plain": [
       "   car_ID  symboling             CarName fueltype aspiration doornumber  \\\n",
       "0       1          3  alfa-romero giulia      gas        std        two   \n",
       "\n",
       "       carbody drivewheel enginelocation  wheelbase  ...  enginesize  \\\n",
       "0  convertible        rwd          front       88.6  ...         130   \n",
       "\n",
       "   fuelsystem  boreratio  stroke compressionratio horsepower  peakrpm citympg  \\\n",
       "0        mpfi       3.47    2.68              9.0        111     5000      21   \n",
       "\n",
       "   highwaympg    price  \n",
       "0          27  13495.0  \n",
       "\n",
       "[1 rows x 26 columns]"
      ]
     },
     "execution_count": 1,
     "metadata": {},
     "output_type": "execute_result"
    }
   ],
   "source": [
    "# (a)\n",
    "import boto3\n",
    "import pandas as pd\n",
    "import numpy as np\n",
    "from sklearn.model_selection import train_test_split\n",
    "from sklearn.linear_model import Lasso, LassoCV, LinearRegression, Ridge, RidgeCV\n",
    "from sklearn.model_selection import KFold\n",
    "\n",
    "# Defining the s3 bucket\n",
    "s3 = boto3.resource('s3')\n",
    "bucket_name = 'gabrielferreira-data-455-bucket'\n",
    "bucket = s3.Bucket(bucket_name)\n",
    "\n",
    "# Defining the file to be read from s3 bucket\n",
    "file_key = \"CarPrice_Assignment.csv\"\n",
    "\n",
    "bucket_object = bucket.Object(file_key)\n",
    "file_object = bucket_object.get()\n",
    "file_content_stream = file_object.get('Body')\n",
    "\n",
    "# Reading the csv file\n",
    "car_price = pd.read_csv(file_content_stream)\n",
    "car_price.head(1)"
   ]
  },
  {
   "cell_type": "code",
   "execution_count": 2,
   "id": "5c17419a",
   "metadata": {},
   "outputs": [],
   "source": [
    "# (b)\n",
    "from sklearn.model_selection import train_test_split\n",
    "\n",
    "# Defining input and target variables\n",
    "X = car_price[['wheelbase', 'enginesize', 'compressionratio', 'horsepower', 'peakrpm', 'citympg', 'highwaympg']]\n",
    "Y = car_price['price']\n",
    "\n",
    "# Splitting the data into train and test\n",
    "X_train, X_test, Y_train, Y_test = train_test_split(X, Y, test_size = 0.2)"
   ]
  },
  {
   "cell_type": "code",
   "execution_count": 3,
   "id": "b3aca22a",
   "metadata": {},
   "outputs": [
    {
     "data": {
      "text/plain": [
       "array([208.65112006, 102.82824753, 290.205738  ,  65.41928608,\n",
       "         1.6259893 , -21.71189354, -10.22755194])"
      ]
     },
     "execution_count": 3,
     "metadata": {},
     "output_type": "execute_result"
    }
   ],
   "source": [
    "# Selecting lasso as variable selector\n",
    "from sklearn.linear_model import Lasso, LassoCV\n",
    "\n",
    "# Estimating optimal lambda with lasso\n",
    "lasso_cv = LassoCV(normalize = True, cv = 5).fit(X_train, Y_train)\n",
    "lasso_cv = lasso_cv.alpha_\n",
    "\n",
    "# Selecting variables with the above Lasso optimal lambda.\n",
    "lasso_md = Lasso(alpha = lasso_cv, normalize = True).fit(X_train, Y_train)\n",
    "lasso_md.coef_"
   ]
  },
  {
   "cell_type": "code",
   "execution_count": 4,
   "id": "9a881c17",
   "metadata": {},
   "outputs": [
    {
     "data": {
      "text/html": [
       "<div>\n",
       "<style scoped>\n",
       "    .dataframe tbody tr th:only-of-type {\n",
       "        vertical-align: middle;\n",
       "    }\n",
       "\n",
       "    .dataframe tbody tr th {\n",
       "        vertical-align: top;\n",
       "    }\n",
       "\n",
       "    .dataframe thead th {\n",
       "        text-align: right;\n",
       "    }\n",
       "</style>\n",
       "<table border=\"1\" class=\"dataframe\">\n",
       "  <thead>\n",
       "    <tr style=\"text-align: right;\">\n",
       "      <th></th>\n",
       "      <th>wheelbase</th>\n",
       "      <th>enginesize</th>\n",
       "      <th>compressionratio</th>\n",
       "      <th>horsepower</th>\n",
       "      <th>peakrpm</th>\n",
       "      <th>citympg</th>\n",
       "      <th>highwaympg</th>\n",
       "    </tr>\n",
       "  </thead>\n",
       "  <tbody>\n",
       "    <tr>\n",
       "      <th>0</th>\n",
       "      <td>174.698439</td>\n",
       "      <td>101.355892</td>\n",
       "      <td>310.832977</td>\n",
       "      <td>53.468711</td>\n",
       "      <td>1.807066</td>\n",
       "      <td>-102.823918</td>\n",
       "      <td>-0.000000</td>\n",
       "    </tr>\n",
       "    <tr>\n",
       "      <th>1</th>\n",
       "      <td>198.011655</td>\n",
       "      <td>95.626906</td>\n",
       "      <td>307.929517</td>\n",
       "      <td>49.578079</td>\n",
       "      <td>1.747472</td>\n",
       "      <td>-128.346491</td>\n",
       "      <td>-0.000000</td>\n",
       "    </tr>\n",
       "    <tr>\n",
       "      <th>2</th>\n",
       "      <td>135.120437</td>\n",
       "      <td>110.449859</td>\n",
       "      <td>369.194237</td>\n",
       "      <td>44.834411</td>\n",
       "      <td>1.683485</td>\n",
       "      <td>-99.427272</td>\n",
       "      <td>-20.805745</td>\n",
       "    </tr>\n",
       "    <tr>\n",
       "      <th>3</th>\n",
       "      <td>171.902893</td>\n",
       "      <td>116.043162</td>\n",
       "      <td>253.078426</td>\n",
       "      <td>47.107987</td>\n",
       "      <td>2.117826</td>\n",
       "      <td>-90.862698</td>\n",
       "      <td>0.000000</td>\n",
       "    </tr>\n",
       "    <tr>\n",
       "      <th>4</th>\n",
       "      <td>221.127545</td>\n",
       "      <td>107.137229</td>\n",
       "      <td>275.113540</td>\n",
       "      <td>54.438664</td>\n",
       "      <td>2.475482</td>\n",
       "      <td>-45.024131</td>\n",
       "      <td>-0.000000</td>\n",
       "    </tr>\n",
       "    <tr>\n",
       "      <th>5</th>\n",
       "      <td>158.906332</td>\n",
       "      <td>118.026381</td>\n",
       "      <td>306.183956</td>\n",
       "      <td>39.201271</td>\n",
       "      <td>2.116471</td>\n",
       "      <td>-299.527146</td>\n",
       "      <td>168.283217</td>\n",
       "    </tr>\n",
       "    <tr>\n",
       "      <th>6</th>\n",
       "      <td>163.214534</td>\n",
       "      <td>117.562814</td>\n",
       "      <td>284.627350</td>\n",
       "      <td>42.905403</td>\n",
       "      <td>2.346134</td>\n",
       "      <td>-112.959883</td>\n",
       "      <td>-0.000000</td>\n",
       "    </tr>\n",
       "    <tr>\n",
       "      <th>7</th>\n",
       "      <td>116.756862</td>\n",
       "      <td>116.093247</td>\n",
       "      <td>315.633127</td>\n",
       "      <td>51.372671</td>\n",
       "      <td>1.528826</td>\n",
       "      <td>-62.314109</td>\n",
       "      <td>-16.348285</td>\n",
       "    </tr>\n",
       "    <tr>\n",
       "      <th>8</th>\n",
       "      <td>193.588813</td>\n",
       "      <td>102.358029</td>\n",
       "      <td>333.717123</td>\n",
       "      <td>51.208097</td>\n",
       "      <td>2.516465</td>\n",
       "      <td>-105.216651</td>\n",
       "      <td>-0.000000</td>\n",
       "    </tr>\n",
       "    <tr>\n",
       "      <th>9</th>\n",
       "      <td>180.359114</td>\n",
       "      <td>111.166654</td>\n",
       "      <td>307.499118</td>\n",
       "      <td>46.925046</td>\n",
       "      <td>2.112494</td>\n",
       "      <td>-112.942350</td>\n",
       "      <td>-0.000000</td>\n",
       "    </tr>\n",
       "  </tbody>\n",
       "</table>\n",
       "</div>"
      ],
      "text/plain": [
       "    wheelbase  enginesize  compressionratio  horsepower   peakrpm     citympg  \\\n",
       "0  174.698439  101.355892        310.832977   53.468711  1.807066 -102.823918   \n",
       "1  198.011655   95.626906        307.929517   49.578079  1.747472 -128.346491   \n",
       "2  135.120437  110.449859        369.194237   44.834411  1.683485  -99.427272   \n",
       "3  171.902893  116.043162        253.078426   47.107987  2.117826  -90.862698   \n",
       "4  221.127545  107.137229        275.113540   54.438664  2.475482  -45.024131   \n",
       "5  158.906332  118.026381        306.183956   39.201271  2.116471 -299.527146   \n",
       "6  163.214534  117.562814        284.627350   42.905403  2.346134 -112.959883   \n",
       "7  116.756862  116.093247        315.633127   51.372671  1.528826  -62.314109   \n",
       "8  193.588813  102.358029        333.717123   51.208097  2.516465 -105.216651   \n",
       "9  180.359114  111.166654        307.499118   46.925046  2.112494 -112.942350   \n",
       "\n",
       "   highwaympg  \n",
       "0   -0.000000  \n",
       "1   -0.000000  \n",
       "2  -20.805745  \n",
       "3    0.000000  \n",
       "4   -0.000000  \n",
       "5  168.283217  \n",
       "6   -0.000000  \n",
       "7  -16.348285  \n",
       "8   -0.000000  \n",
       "9   -0.000000  "
      ]
     },
     "execution_count": 4,
     "metadata": {},
     "output_type": "execute_result"
    }
   ],
   "source": [
    "# Repeating the above proccess 1000 times.\n",
    "\n",
    "lasso_results = []\n",
    "\n",
    "for i in range(0,1000):\n",
    "    \n",
    "    # Splitting the data into train and test\n",
    "    X_train, X_test, Y_train, Y_test = train_test_split(X, Y, test_size = 0.2)\n",
    "    \n",
    "    # Estimating optimal lambda with lasso\n",
    "    lasso_cv = LassoCV(normalize = True, cv = 5).fit(X_train, Y_train)\n",
    "    lasso_cv = lasso_cv.alpha_\n",
    "\n",
    "    # Selecting variables with the above Lasso optimal lambda.\n",
    "    lasso_md = Lasso(alpha = lasso_cv, normalize = True).fit(X_train, Y_train)\n",
    "    lasso_results.append(lasso_md.coef_)\n",
    "\n",
    "# Making a dataset for the results\n",
    "lasso_coef = pd.DataFrame(lasso_results, columns = X.columns)\n",
    "lasso_coef.head(10)"
   ]
  },
  {
   "cell_type": "code",
   "execution_count": 5,
   "id": "200e32d9",
   "metadata": {},
   "outputs": [
    {
     "data": {
      "text/plain": [
       "7"
      ]
     },
     "execution_count": 5,
     "metadata": {},
     "output_type": "execute_result"
    }
   ],
   "source": [
    "len(lasso_coef.iloc[0,:])"
   ]
  },
  {
   "cell_type": "code",
   "execution_count": 6,
   "id": "3711807f",
   "metadata": {},
   "outputs": [
    {
     "data": {
      "text/plain": [
       "1000"
      ]
     },
     "execution_count": 6,
     "metadata": {},
     "output_type": "execute_result"
    }
   ],
   "source": [
    "len(lasso_coef.iloc[:,0])"
   ]
  },
  {
   "cell_type": "code",
   "execution_count": 7,
   "id": "d2c56416",
   "metadata": {},
   "outputs": [
    {
     "data": {
      "text/plain": [
       "762"
      ]
     },
     "execution_count": 7,
     "metadata": {},
     "output_type": "execute_result"
    }
   ],
   "source": [
    "sum(lasso_coef.iloc[:,6] == 0)"
   ]
  },
  {
   "cell_type": "code",
   "execution_count": 8,
   "id": "d6e3fae4",
   "metadata": {},
   "outputs": [
    {
     "name": "stdout",
     "output_type": "stream",
     "text": [
      "Column Index:  0\n",
      "Number of Coefficient = 0 in the column:  0\n",
      "\n",
      "Column Index:  1\n",
      "Number of Coefficient = 0 in the column:  0\n",
      "\n",
      "Column Index:  2\n",
      "Number of Coefficient = 0 in the column:  0\n",
      "\n",
      "Column Index:  3\n",
      "Number of Coefficient = 0 in the column:  0\n",
      "\n",
      "Column Index:  4\n",
      "Number of Coefficient = 0 in the column:  0\n",
      "\n",
      "Column Index:  5\n",
      "Number of Coefficient = 0 in the column:  12\n",
      "\n",
      "Column Index:  6\n",
      "Number of Coefficient = 0 in the column:  762\n",
      "\n"
     ]
    }
   ],
   "source": [
    "## Checking Coefficient = 0 in the columns\n",
    "for i in range(0, len(lasso_coef.iloc[0,:])):\n",
    "    \n",
    "    count = 0\n",
    "\n",
    "    for j in range(0, len(lasso_coef.iloc[:,0])):\n",
    "    \n",
    "        if (lasso_coef.iloc[j, i] == 0):\n",
    "            count = count + 1\n",
    "            \n",
    "    print(\"Column Index: \", i)\n",
    "    print(\"Number of Coefficient = 0 in the column: \", count)\n",
    "    print('')"
   ]
  },
  {
   "cell_type": "markdown",
   "id": "a88a7533",
   "metadata": {},
   "source": [
    "#### After going through all coefficients provided by the model LASSO, we can see that the column index 6, which is highwaympg, is not useful for our model. Therefore, it must be removed."
   ]
  },
  {
   "cell_type": "code",
   "execution_count": 9,
   "id": "bbcfde77",
   "metadata": {},
   "outputs": [
    {
     "data": {
      "text/html": [
       "<div>\n",
       "<style scoped>\n",
       "    .dataframe tbody tr th:only-of-type {\n",
       "        vertical-align: middle;\n",
       "    }\n",
       "\n",
       "    .dataframe tbody tr th {\n",
       "        vertical-align: top;\n",
       "    }\n",
       "\n",
       "    .dataframe thead th {\n",
       "        text-align: right;\n",
       "    }\n",
       "</style>\n",
       "<table border=\"1\" class=\"dataframe\">\n",
       "  <thead>\n",
       "    <tr style=\"text-align: right;\">\n",
       "      <th></th>\n",
       "      <th>wheelbase</th>\n",
       "      <th>enginesize</th>\n",
       "      <th>compressionratio</th>\n",
       "      <th>horsepower</th>\n",
       "      <th>peakrpm</th>\n",
       "      <th>citympg</th>\n",
       "    </tr>\n",
       "  </thead>\n",
       "  <tbody>\n",
       "    <tr>\n",
       "      <th>0</th>\n",
       "      <td>88.6</td>\n",
       "      <td>130</td>\n",
       "      <td>9.0</td>\n",
       "      <td>111</td>\n",
       "      <td>5000</td>\n",
       "      <td>21</td>\n",
       "    </tr>\n",
       "    <tr>\n",
       "      <th>1</th>\n",
       "      <td>88.6</td>\n",
       "      <td>130</td>\n",
       "      <td>9.0</td>\n",
       "      <td>111</td>\n",
       "      <td>5000</td>\n",
       "      <td>21</td>\n",
       "    </tr>\n",
       "    <tr>\n",
       "      <th>2</th>\n",
       "      <td>94.5</td>\n",
       "      <td>152</td>\n",
       "      <td>9.0</td>\n",
       "      <td>154</td>\n",
       "      <td>5000</td>\n",
       "      <td>19</td>\n",
       "    </tr>\n",
       "    <tr>\n",
       "      <th>3</th>\n",
       "      <td>99.8</td>\n",
       "      <td>109</td>\n",
       "      <td>10.0</td>\n",
       "      <td>102</td>\n",
       "      <td>5500</td>\n",
       "      <td>24</td>\n",
       "    </tr>\n",
       "    <tr>\n",
       "      <th>4</th>\n",
       "      <td>99.4</td>\n",
       "      <td>136</td>\n",
       "      <td>8.0</td>\n",
       "      <td>115</td>\n",
       "      <td>5500</td>\n",
       "      <td>18</td>\n",
       "    </tr>\n",
       "    <tr>\n",
       "      <th>...</th>\n",
       "      <td>...</td>\n",
       "      <td>...</td>\n",
       "      <td>...</td>\n",
       "      <td>...</td>\n",
       "      <td>...</td>\n",
       "      <td>...</td>\n",
       "    </tr>\n",
       "    <tr>\n",
       "      <th>200</th>\n",
       "      <td>109.1</td>\n",
       "      <td>141</td>\n",
       "      <td>9.5</td>\n",
       "      <td>114</td>\n",
       "      <td>5400</td>\n",
       "      <td>23</td>\n",
       "    </tr>\n",
       "    <tr>\n",
       "      <th>201</th>\n",
       "      <td>109.1</td>\n",
       "      <td>141</td>\n",
       "      <td>8.7</td>\n",
       "      <td>160</td>\n",
       "      <td>5300</td>\n",
       "      <td>19</td>\n",
       "    </tr>\n",
       "    <tr>\n",
       "      <th>202</th>\n",
       "      <td>109.1</td>\n",
       "      <td>173</td>\n",
       "      <td>8.8</td>\n",
       "      <td>134</td>\n",
       "      <td>5500</td>\n",
       "      <td>18</td>\n",
       "    </tr>\n",
       "    <tr>\n",
       "      <th>203</th>\n",
       "      <td>109.1</td>\n",
       "      <td>145</td>\n",
       "      <td>23.0</td>\n",
       "      <td>106</td>\n",
       "      <td>4800</td>\n",
       "      <td>26</td>\n",
       "    </tr>\n",
       "    <tr>\n",
       "      <th>204</th>\n",
       "      <td>109.1</td>\n",
       "      <td>141</td>\n",
       "      <td>9.5</td>\n",
       "      <td>114</td>\n",
       "      <td>5400</td>\n",
       "      <td>19</td>\n",
       "    </tr>\n",
       "  </tbody>\n",
       "</table>\n",
       "<p>205 rows × 6 columns</p>\n",
       "</div>"
      ],
      "text/plain": [
       "     wheelbase  enginesize  compressionratio  horsepower  peakrpm  citympg\n",
       "0         88.6         130               9.0         111     5000       21\n",
       "1         88.6         130               9.0         111     5000       21\n",
       "2         94.5         152               9.0         154     5000       19\n",
       "3         99.8         109              10.0         102     5500       24\n",
       "4         99.4         136               8.0         115     5500       18\n",
       "..         ...         ...               ...         ...      ...      ...\n",
       "200      109.1         141               9.5         114     5400       23\n",
       "201      109.1         141               8.7         160     5300       19\n",
       "202      109.1         173               8.8         134     5500       18\n",
       "203      109.1         145              23.0         106     4800       26\n",
       "204      109.1         141               9.5         114     5400       19\n",
       "\n",
       "[205 rows x 6 columns]"
      ]
     },
     "execution_count": 9,
     "metadata": {},
     "output_type": "execute_result"
    }
   ],
   "source": [
    "# (c)\n",
    "X = X.drop('highwaympg', axis = 1)\n",
    "X"
   ]
  },
  {
   "cell_type": "code",
   "execution_count": 10,
   "id": "b371f381",
   "metadata": {},
   "outputs": [],
   "source": [
    "# (d)\n",
    "# Splitting the data into train and test\n",
    "X_train, X_test, Y_train, Y_test = train_test_split(X, Y, test_size = 0.2)\n",
    "\n",
    "# Normalizating input variables of the train and test dataset\n",
    "def l2_normalization(X):\n",
    "    \n",
    "    x_mean = np.mean(X)\n",
    "    l2 = np.sqrt(sum(X)**2)\n",
    "    return (X - x_mean) / l2\n",
    "\n",
    "X_train = X_train.apply(l2_normalization, axis = 1)\n",
    "X_test = X_test.apply(l2_normalization, axis = 1)"
   ]
  },
  {
   "cell_type": "code",
   "execution_count": 39,
   "id": "d6f63bd6",
   "metadata": {},
   "outputs": [
    {
     "data": {
      "text/plain": [
       "17238816.525034405"
      ]
     },
     "execution_count": 39,
     "metadata": {},
     "output_type": "execute_result"
    }
   ],
   "source": [
    "# (e)\n",
    "from sklearn.linear_model import LinearRegression, Ridge, RidgeCV\n",
    "\n",
    "# Building a multiple linear regression\n",
    "lm_md = LinearRegression().fit(X_train, Y_train)\n",
    "\n",
    "# Predicting on test dataset\n",
    "md1_preds = lm_md.predict(X_test)\n",
    "\n",
    "# Computing mse\n",
    "linear_mse = np.mean(np.power(md1_preds - Y_test, 2))\n",
    "linear_mse"
   ]
  },
  {
   "cell_type": "code",
   "execution_count": 36,
   "id": "72d2570a",
   "metadata": {},
   "outputs": [
    {
     "data": {
      "text/plain": [
       "0.001"
      ]
     },
     "execution_count": 36,
     "metadata": {},
     "output_type": "execute_result"
    }
   ],
   "source": [
    "# (f)\n",
    "#    (i)\n",
    "# Estimating optimal lambda with LASSO.\n",
    "ridgeCV = RidgeCV(alphas = [0.001, 0.01, 0.1, 1, 10, 100], cv = 5).fit(X_train, Y_train)\n",
    "rigde_alpha = ridgeCV.alpha_\n",
    "rigde_alpha"
   ]
  },
  {
   "cell_type": "code",
   "execution_count": 34,
   "id": "8120a91b",
   "metadata": {},
   "outputs": [
    {
     "data": {
      "text/plain": [
       "0.001    100\n",
       "dtype: int64"
      ]
     },
     "execution_count": 34,
     "metadata": {},
     "output_type": "execute_result"
    }
   ],
   "source": [
    "# (ii)\n",
    "# Estimating optimal lambda with LASSO 100 times.\n",
    "ridge_lambda = list()\n",
    "\n",
    "for i in range(0, 100):\n",
    "    ridgeCV = RidgeCV(alphas = [0.001, 0.01, 0.1, 1, 10, 100], cv = 5).fit(X_train, Y_train)\n",
    "    ridge_lambda.append(ridgeCV.alpha_)\n",
    "\n",
    "ridge_results = pd.DataFrame(ridge_lambda)\n",
    "ridge_results.value_counts()"
   ]
  },
  {
   "cell_type": "code",
   "execution_count": 41,
   "id": "89400cf3",
   "metadata": {},
   "outputs": [
    {
     "data": {
      "text/plain": [
       "21828947.656970922"
      ]
     },
     "execution_count": 41,
     "metadata": {},
     "output_type": "execute_result"
    }
   ],
   "source": [
    "# Building Ridge Regression model\n",
    "ridge_md = Ridge(alpha = rigde_alpha).fit(X_train, Y_train)\n",
    "\n",
    "# Making Predictions made by Ridge Regression model\n",
    "ridge_preds = ridge_md.predict(X_test)\n",
    "\n",
    "# Evaluating the predictions using mse\n",
    "ridge_mse = np.mean(np.power(ridge_preds - Y_test, 2))\n",
    "ridge_mse"
   ]
  },
  {
   "cell_type": "code",
   "execution_count": 43,
   "id": "201f11b0",
   "metadata": {},
   "outputs": [
    {
     "data": {
      "text/plain": [
       "-4590131.131936517"
      ]
     },
     "execution_count": 43,
     "metadata": {},
     "output_type": "execute_result"
    }
   ],
   "source": [
    "linear_mse - ridge_mse"
   ]
  },
  {
   "cell_type": "markdown",
   "id": "26540bd3",
   "metadata": {},
   "source": [
    "Based on the results from part (e) and (f), I would use the model from part (e), which is Linear Regression, to predict car prices."
   ]
  }
 ],
 "metadata": {
  "kernelspec": {
   "display_name": "conda_python3",
   "language": "python",
   "name": "conda_python3"
  },
  "language_info": {
   "codemirror_mode": {
    "name": "ipython",
    "version": 3
   },
   "file_extension": ".py",
   "mimetype": "text/x-python",
   "name": "python",
   "nbconvert_exporter": "python",
   "pygments_lexer": "ipython3",
   "version": "3.6.13"
  }
 },
 "nbformat": 4,
 "nbformat_minor": 5
}
