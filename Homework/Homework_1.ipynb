{
 "cells": [
  {
   "cell_type": "markdown",
   "id": "9919d140",
   "metadata": {},
   "source": [
    "## Question 1\n",
    "#### What type of algorithm would you use to segment a company customers database into multiple groups?"
   ]
  },
  {
   "cell_type": "markdown",
   "id": "d4279638",
   "metadata": {},
   "source": [
    "If you don’t know how to define the groups, then you can use a clustering algorithm (unsupervised learning), such as k-means, to segment your customers into clusters of similar\n",
    "customers. However, if you know what groups you would like to have, then you can feed\n",
    "many examples of each group to a classification algorithm (supervised learning), and it will\n",
    "classify all the customers into these groups."
   ]
  },
  {
   "cell_type": "markdown",
   "id": "ea384ee5",
   "metadata": {},
   "source": [
    "## Question 2\n",
    "#### Would you frame the problem of spam detection as a supervised learning problem or an unsupervised learning problem? Explain."
   ]
  },
  {
   "cell_type": "markdown",
   "id": "a5373a0b",
   "metadata": {},
   "source": [
    "I would frame the problem of spam detection as a supervised learning problem. A supervised learning algorithm has already been trained in a model and it is ready to accurately predict whether the unknown is a spam or not."
   ]
  },
  {
   "cell_type": "markdown",
   "id": "d8ab3339",
   "metadata": {},
   "source": [
    "Oscar's: Spam detection is a typical supervised learning problem: the algorithm is fed many emails\n",
    "along with their labels (spam or not spam)."
   ]
  },
  {
   "cell_type": "markdown",
   "id": "6c6daa3e",
   "metadata": {},
   "source": [
    "## Question 3\n",
    "#### What is a test set, and why would you want to use it?"
   ]
  },
  {
   "cell_type": "markdown",
   "id": "457bdbac",
   "metadata": {},
   "source": [
    "Basically, a test set is a small random sample (20%-30%) of the dataset and I would use it to measure the performance of the trained model. "
   ]
  },
  {
   "cell_type": "markdown",
   "id": "60e23e93",
   "metadata": {},
   "source": [
    "Oscar's: The test set is used to estimate the error that a model will make on new observations, before\n",
    "the model in launched in a production environment."
   ]
  },
  {
   "cell_type": "markdown",
   "id": "67f9feb9",
   "metadata": {},
   "source": [
    "## Question 4\n",
    "#### You are training a classification model with 100 variables/features that achieves 95% accuracy in the training dataset. However, when you run it in the test dataset, you only get 60% accuracy. Which of the following options are valid approached to solve this problem?"
   ]
  },
  {
   "cell_type": "markdown",
   "id": "6bee6fec",
   "metadata": {},
   "source": [
    "#### (e) (a) and (c)"
   ]
  },
  {
   "cell_type": "markdown",
   "id": "d6ccf37c",
   "metadata": {},
   "source": [
    "This is clearly an overfitting issue. In order to solve this type of problem, you could reduce\n",
    "the excessive number of features (which will reduce the complexity of the model and make it\n",
    "less dependent on the training set). Additionally, you could also implement cross-validation\n",
    "during the training process."
   ]
  },
  {
   "cell_type": "markdown",
   "id": "8da2089b",
   "metadata": {},
   "source": [
    "## Question 5\n",
    "#### Consider the Real Estate.csv data, this file contains information related to 414 houses. The goal is to predict the house price of unit area. In Python, answer the following:"
   ]
  },
  {
   "cell_type": "markdown",
   "id": "bf97d268",
   "metadata": {},
   "source": [
    "#### (a) Using the pandas library, read the csv data file and create a data-frame called house price."
   ]
  },
  {
   "cell_type": "code",
   "execution_count": 1,
   "id": "0c1796ce",
   "metadata": {},
   "outputs": [
    {
     "data": {
      "text/html": [
       "<div>\n",
       "<style scoped>\n",
       "    .dataframe tbody tr th:only-of-type {\n",
       "        vertical-align: middle;\n",
       "    }\n",
       "\n",
       "    .dataframe tbody tr th {\n",
       "        vertical-align: top;\n",
       "    }\n",
       "\n",
       "    .dataframe thead th {\n",
       "        text-align: right;\n",
       "    }\n",
       "</style>\n",
       "<table border=\"1\" class=\"dataframe\">\n",
       "  <thead>\n",
       "    <tr style=\"text-align: right;\">\n",
       "      <th></th>\n",
       "      <th>No</th>\n",
       "      <th>transaction_date</th>\n",
       "      <th>house_age</th>\n",
       "      <th>distance_to_the_nearest_MRT_station</th>\n",
       "      <th>number_of_convenience_stores</th>\n",
       "      <th>latitude</th>\n",
       "      <th>longitude</th>\n",
       "      <th>house_price_of_unit_area</th>\n",
       "    </tr>\n",
       "  </thead>\n",
       "  <tbody>\n",
       "    <tr>\n",
       "      <th>0</th>\n",
       "      <td>1</td>\n",
       "      <td>2012.917</td>\n",
       "      <td>32.0</td>\n",
       "      <td>84.87882</td>\n",
       "      <td>10</td>\n",
       "      <td>24.98298</td>\n",
       "      <td>121.54024</td>\n",
       "      <td>37.9</td>\n",
       "    </tr>\n",
       "  </tbody>\n",
       "</table>\n",
       "</div>"
      ],
      "text/plain": [
       "   No  transaction_date  house_age  distance_to_the_nearest_MRT_station  \\\n",
       "0   1          2012.917       32.0                             84.87882   \n",
       "\n",
       "   number_of_convenience_stores  latitude  longitude  house_price_of_unit_area  \n",
       "0                            10  24.98298  121.54024                      37.9  "
      ]
     },
     "execution_count": 1,
     "metadata": {},
     "output_type": "execute_result"
    }
   ],
   "source": [
    "import boto3\n",
    "import pandas as pd\n",
    "import numpy as np\n",
    "\n",
    "# Defining the s3 bucket\n",
    "s3 = boto3.resource('s3')\n",
    "bucket_name = 'gabrielferreira-data-455-bucket'\n",
    "bucket = s3.Bucket(bucket_name)\n",
    "\n",
    "# Defining the file to be read from s3 bucket\n",
    "file_key = \"Real_Estate.csv\"\n",
    "\n",
    "bucket_object = bucket.Object(file_key)\n",
    "file_object = bucket_object.get()\n",
    "file_content_stream = file_object.get('Body')\n",
    "\n",
    "# Reading the csv file\n",
    "house_price = pd.read_csv(file_content_stream)\n",
    "house_price.head(1)"
   ]
  },
  {
   "cell_type": "markdown",
   "id": "7cf7282c",
   "metadata": {},
   "source": [
    "#### (b) Drop the No and transaction date columns."
   ]
  },
  {
   "cell_type": "code",
   "execution_count": 2,
   "id": "b92fa3fd",
   "metadata": {},
   "outputs": [
    {
     "data": {
      "text/html": [
       "<div>\n",
       "<style scoped>\n",
       "    .dataframe tbody tr th:only-of-type {\n",
       "        vertical-align: middle;\n",
       "    }\n",
       "\n",
       "    .dataframe tbody tr th {\n",
       "        vertical-align: top;\n",
       "    }\n",
       "\n",
       "    .dataframe thead th {\n",
       "        text-align: right;\n",
       "    }\n",
       "</style>\n",
       "<table border=\"1\" class=\"dataframe\">\n",
       "  <thead>\n",
       "    <tr style=\"text-align: right;\">\n",
       "      <th></th>\n",
       "      <th>house_age</th>\n",
       "      <th>distance_to_the_nearest_MRT_station</th>\n",
       "      <th>number_of_convenience_stores</th>\n",
       "      <th>latitude</th>\n",
       "      <th>longitude</th>\n",
       "      <th>house_price_of_unit_area</th>\n",
       "    </tr>\n",
       "  </thead>\n",
       "  <tbody>\n",
       "    <tr>\n",
       "      <th>0</th>\n",
       "      <td>32.0</td>\n",
       "      <td>84.87882</td>\n",
       "      <td>10</td>\n",
       "      <td>24.98298</td>\n",
       "      <td>121.54024</td>\n",
       "      <td>37.9</td>\n",
       "    </tr>\n",
       "  </tbody>\n",
       "</table>\n",
       "</div>"
      ],
      "text/plain": [
       "   house_age  distance_to_the_nearest_MRT_station  \\\n",
       "0       32.0                             84.87882   \n",
       "\n",
       "   number_of_convenience_stores  latitude  longitude  house_price_of_unit_area  \n",
       "0                            10  24.98298  121.54024                      37.9  "
      ]
     },
     "execution_count": 2,
     "metadata": {},
     "output_type": "execute_result"
    }
   ],
   "source": [
    "# Removing No and transaction date columns.\n",
    "house_price = house_price.drop(['No', 'transaction_date'], axis = 1)\n",
    "house_price.head(1)"
   ]
  },
  {
   "cell_type": "markdown",
   "id": "1482af22",
   "metadata": {},
   "source": [
    "#### (c)  Split the data-frame into two data-frames: train (80%) and test (20%)."
   ]
  },
  {
   "cell_type": "code",
   "execution_count": 3,
   "id": "902bf2b6",
   "metadata": {},
   "outputs": [],
   "source": [
    "from sklearn.model_selection import train_test_split\n",
    "\n",
    "# Defining input and target variables\n",
    "X = house_price[['house_age', 'distance_to_the_nearest_MRT_station', 'number_of_convenience_stores', 'latitude', 'longitude']]\n",
    "Y = house_price['house_price_of_unit_area']\n",
    "\n",
    "\n",
    "# Splitting the data into train and test\n",
    "X_train, X_test, Y_train, Y_test = train_test_split(X, Y, test_size = 0.2)"
   ]
  },
  {
   "cell_type": "markdown",
   "id": "88f0f6bf",
   "metadata": {},
   "source": [
    "#### (d) Using the train data-frame, build a linear regression model in which: house age, distance to the nearest MRT station, number of convenience stores, latitude, and longitude are the input variables, and house price of unit area is the target variable. After the model is built, predict the house price of unit area of a the houses in the test data-frame. Report the MSE."
   ]
  },
  {
   "cell_type": "code",
   "execution_count": 4,
   "id": "e33ceaa8",
   "metadata": {},
   "outputs": [],
   "source": [
    "from sklearn.linear_model import LinearRegression\n",
    "\n",
    "# Building a linear regression model\n",
    "lm_md = LinearRegression().fit(X_train, Y_train)\n",
    "\n",
    "# Getting houses price predictions\n",
    "preds = lm_md.predict(X_test)"
   ]
  },
  {
   "cell_type": "code",
   "execution_count": 5,
   "id": "6cefdca3",
   "metadata": {},
   "outputs": [
    {
     "data": {
      "text/plain": [
       "155.76531233009234"
      ]
     },
     "execution_count": 5,
     "metadata": {},
     "output_type": "execute_result"
    }
   ],
   "source": [
    "# Computing the mse (mean square error)\n",
    "mse = np.mean(np.power(preds - Y_test, 2))\n",
    "mse"
   ]
  },
  {
   "cell_type": "markdown",
   "id": "e595dcfc",
   "metadata": {},
   "source": [
    "#### (e) Using the train data-frame, build a linear regression model in which: house age, number of convenience stores, latitude, and longitude are the input variables, and house price of unit area is the target variable. After the model is built, predict the house price of unit area of a the houses in the test data-frame. Report the MSE.\n"
   ]
  },
  {
   "cell_type": "code",
   "execution_count": 6,
   "id": "592d6328",
   "metadata": {},
   "outputs": [],
   "source": [
    "# Defining input and target variables for the new model\n",
    "X_train_new = X_train.drop(columns = ['distance_to_the_nearest_MRT_station'], axis = 1)\n",
    "X_test_new = X_test.drop(columns = ['distance_to_the_nearest_MRT_station'], axis = 1)\n",
    "\n",
    "# Building the linear model\n",
    "lm_md_2 = LinearRegression().fit(X_train_new, Y_train)\n",
    "\n",
    "# Getting houses price prediction\n",
    "preds = lm_md_2.predict(X_test_new)"
   ]
  },
  {
   "cell_type": "code",
   "execution_count": 7,
   "id": "7f2bf1b2",
   "metadata": {},
   "outputs": [
    {
     "data": {
      "text/plain": [
       "163.34577472571445"
      ]
     },
     "execution_count": 7,
     "metadata": {},
     "output_type": "execute_result"
    }
   ],
   "source": [
    "# Computing the sme\n",
    "mse = np.mean(np.power(preds - Y_test, 2))\n",
    "mse"
   ]
  },
  {
   "cell_type": "markdown",
   "id": "5e2eff08",
   "metadata": {},
   "source": [
    "#### (f) Using the results from parts (d) and (e), what model would use? Explain."
   ]
  },
  {
   "cell_type": "markdown",
   "id": "e164c122",
   "metadata": {},
   "source": [
    "Based on the results from parts (d) and (e), I would use the first model (lm_md) because its mean square error (mse) is smaller than the second model (lm_md_2). Being smaller means that the model is making more accurate predictions."
   ]
  },
  {
   "cell_type": "markdown",
   "id": "aca5305d",
   "metadata": {},
   "source": [
    "#### (g) Repeat steps (c) to (e) 100 times, and visualize the MSE of each of the models at each iteration. Which of the two model has better performance on the test datasets? Explain."
   ]
  },
  {
   "cell_type": "code",
   "execution_count": 8,
   "id": "c10e65b1",
   "metadata": {},
   "outputs": [
    {
     "data": {
      "text/html": [
       "<div>\n",
       "<style scoped>\n",
       "    .dataframe tbody tr th:only-of-type {\n",
       "        vertical-align: middle;\n",
       "    }\n",
       "\n",
       "    .dataframe tbody tr th {\n",
       "        vertical-align: top;\n",
       "    }\n",
       "\n",
       "    .dataframe thead th {\n",
       "        text-align: right;\n",
       "    }\n",
       "</style>\n",
       "<table border=\"1\" class=\"dataframe\">\n",
       "  <thead>\n",
       "    <tr style=\"text-align: right;\">\n",
       "      <th></th>\n",
       "      <th>Model_1</th>\n",
       "      <th>Model_2</th>\n",
       "    </tr>\n",
       "  </thead>\n",
       "  <tbody>\n",
       "    <tr>\n",
       "      <th>0</th>\n",
       "      <td>57.453191</td>\n",
       "      <td>69.543322</td>\n",
       "    </tr>\n",
       "    <tr>\n",
       "      <th>1</th>\n",
       "      <td>58.878585</td>\n",
       "      <td>65.014728</td>\n",
       "    </tr>\n",
       "    <tr>\n",
       "      <th>2</th>\n",
       "      <td>64.521615</td>\n",
       "      <td>66.384462</td>\n",
       "    </tr>\n",
       "    <tr>\n",
       "      <th>3</th>\n",
       "      <td>151.309067</td>\n",
       "      <td>168.543994</td>\n",
       "    </tr>\n",
       "    <tr>\n",
       "      <th>4</th>\n",
       "      <td>52.687999</td>\n",
       "      <td>57.897869</td>\n",
       "    </tr>\n",
       "  </tbody>\n",
       "</table>\n",
       "</div>"
      ],
      "text/plain": [
       "      Model_1     Model_2\n",
       "0   57.453191   69.543322\n",
       "1   58.878585   65.014728\n",
       "2   64.521615   66.384462\n",
       "3  151.309067  168.543994\n",
       "4   52.687999   57.897869"
      ]
     },
     "execution_count": 8,
     "metadata": {},
     "output_type": "execute_result"
    }
   ],
   "source": [
    "# Creating lists to store the mse results\n",
    "lm_md_1_results = list()\n",
    "lm_md_2_results = list()\n",
    "\n",
    "for i in range(0, 100):\n",
    "\n",
    "    # Splitting the data into train and test\n",
    "    X_train, X_test, Y_train, Y_test = train_test_split(X, Y, test_size = 0.2)\n",
    "    \n",
    "    # Defining input and target variables for the new model\n",
    "    X_train_new = X_train.drop(columns = ['distance_to_the_nearest_MRT_station'], axis = 1)\n",
    "    X_test_new = X_test.drop(columns = ['distance_to_the_nearest_MRT_station'], axis = 1)\n",
    "    \n",
    "    # Building model 1\n",
    "    lm_md_1 = LinearRegression().fit(X_train, Y_train)\n",
    "    \n",
    "    # Getting predictions from model 1\n",
    "    preds = lm_md_1.predict(X_test)\n",
    "    \n",
    "    # Computing the mse from model 1\n",
    "    mse_1 = np.mean(np.power(preds - Y_test, 2))\n",
    "    \n",
    "    # Adding results to lm_md_1_results\n",
    "    lm_md_1_results.append(mse_1)\n",
    "\n",
    "    \n",
    "    # Building model 2\n",
    "    lm_md_2 = LinearRegression().fit(X_train_new, Y_train)\n",
    "    \n",
    "    # Getting prediction from model 2\n",
    "    preds_2 = lm_md_2.predict(X_test_new)\n",
    "    \n",
    "    # Computing de mse from model 2\n",
    "    mse_2 = np.mean(np.power(preds_2 - Y_test, 2))\n",
    "    \n",
    "    # Computing the mse results from model 2\n",
    "    lm_md_2_results.append(mse_2)\n",
    "    \n",
    "    \n",
    "lm_md_results = pd.DataFrame({\"Model_1\" : lm_md_1_results, \"Model_2\": lm_md_2_results})\n",
    "lm_md_results.head()"
   ]
  },
  {
   "cell_type": "code",
   "execution_count": 23,
   "id": "a31e213e",
   "metadata": {},
   "outputs": [
    {
     "data": {
      "text/html": [
       "<div>\n",
       "<style scoped>\n",
       "    .dataframe tbody tr th:only-of-type {\n",
       "        vertical-align: middle;\n",
       "    }\n",
       "\n",
       "    .dataframe tbody tr th {\n",
       "        vertical-align: top;\n",
       "    }\n",
       "\n",
       "    .dataframe thead th {\n",
       "        text-align: right;\n",
       "    }\n",
       "</style>\n",
       "<table border=\"1\" class=\"dataframe\">\n",
       "  <thead>\n",
       "    <tr style=\"text-align: right;\">\n",
       "      <th></th>\n",
       "      <th>Model_1</th>\n",
       "      <th>Model_2</th>\n",
       "    </tr>\n",
       "  </thead>\n",
       "  <tbody>\n",
       "    <tr>\n",
       "      <th>count</th>\n",
       "      <td>100.000000</td>\n",
       "      <td>100.000000</td>\n",
       "    </tr>\n",
       "    <tr>\n",
       "      <th>mean</th>\n",
       "      <td>78.914930</td>\n",
       "      <td>84.849303</td>\n",
       "    </tr>\n",
       "    <tr>\n",
       "      <th>std</th>\n",
       "      <td>28.810746</td>\n",
       "      <td>31.550652</td>\n",
       "    </tr>\n",
       "    <tr>\n",
       "      <th>min</th>\n",
       "      <td>39.310558</td>\n",
       "      <td>38.190302</td>\n",
       "    </tr>\n",
       "    <tr>\n",
       "      <th>25%</th>\n",
       "      <td>60.499067</td>\n",
       "      <td>64.799443</td>\n",
       "    </tr>\n",
       "    <tr>\n",
       "      <th>50%</th>\n",
       "      <td>69.814061</td>\n",
       "      <td>74.361773</td>\n",
       "    </tr>\n",
       "    <tr>\n",
       "      <th>75%</th>\n",
       "      <td>86.709791</td>\n",
       "      <td>93.284101</td>\n",
       "    </tr>\n",
       "    <tr>\n",
       "      <th>max</th>\n",
       "      <td>159.094652</td>\n",
       "      <td>166.528964</td>\n",
       "    </tr>\n",
       "  </tbody>\n",
       "</table>\n",
       "</div>"
      ],
      "text/plain": [
       "          Model_1     Model_2\n",
       "count  100.000000  100.000000\n",
       "mean    78.914930   84.849303\n",
       "std     28.810746   31.550652\n",
       "min     39.310558   38.190302\n",
       "25%     60.499067   64.799443\n",
       "50%     69.814061   74.361773\n",
       "75%     86.709791   93.284101\n",
       "max    159.094652  166.528964"
      ]
     },
     "execution_count": 23,
     "metadata": {},
     "output_type": "execute_result"
    }
   ],
   "source": [
    "lm_md_results.describe()"
   ]
  },
  {
   "cell_type": "code",
   "execution_count": 29,
   "id": "56c596fc",
   "metadata": {},
   "outputs": [
    {
     "data": {
      "image/png": "[encoded data removed]",
      "text/plain": [
       "<Figure size 864x576 with 1 Axes>"
      ]
     },
     "metadata": {
      "needs_background": "light"
     },
     "output_type": "display_data"
    }
   ],
   "source": [
    "# Visualizing model 1\n",
    "import matplotlib.pyplot as plt\n",
    "\n",
    "## Plotting iteration results\n",
    "fig = plt.figure(figsize = (12, 8))\n",
    "\n",
    "iterations = range(0, 100)\n",
    "plt.plot(iterations, lm_md_1_results, marker = 'o', color = 'blue',\n",
    "         label = 'First Model')\n",
    "plt.plot(iterations, lm_md_2_results, marker = 'o', color = 'orange',\n",
    "        label = 'Second Model')\n",
    "plt.xlabel('Number of Iteration')\n",
    "plt.ylabel('MSE')\n",
    "plt.legend()\n",
    "plt.grid()\n",
    "plt.show()"
   ]
  },
  {
   "cell_type": "markdown",
   "id": "a7ef51a0",
   "metadata": {},
   "source": [
    "From the above figure, we see that first model (d) has better performance than second model (e) because\n",
    "in most of the iterations it has a smaller mean square error."
   ]
  }
 ],
 "metadata": {
  "kernelspec": {
   "display_name": "conda_python3",
   "language": "python",
   "name": "conda_python3"
  },
  "language_info": {
   "codemirror_mode": {
    "name": "ipython",
    "version": 3
   },
   "file_extension": ".py",
   "mimetype": "text/x-python",
   "name": "python",
   "nbconvert_exporter": "python",
   "pygments_lexer": "ipython3",
   "version": "3.6.13"
  }
 },
 "nbformat": 4,
 "nbformat_minor": 5
}
